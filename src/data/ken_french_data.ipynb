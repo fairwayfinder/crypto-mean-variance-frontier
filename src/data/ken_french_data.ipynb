{
 "cells": [
  {
   "cell_type": "markdown",
   "metadata": {},
   "source": [
    "# grabbing log returns"
   ]
  },
  {
   "cell_type": "code",
   "execution_count": 6,
   "metadata": {},
   "outputs": [
    {
     "name": "stderr",
     "output_type": "stream",
     "text": [
      "/tmp/ipykernel_1153/3211062329.py:12: FutureWarning: The argument 'date_parser' is deprecated and will be removed in a future version. Please use 'date_format' instead, or read your data in as 'object' dtype and then call 'to_datetime'.\n",
      "  industry_portfolios = web.DataReader(data, 'famafrench', start=start_date, end = end_date)\n",
      "/tmp/ipykernel_1153/3211062329.py:12: FutureWarning: The argument 'date_parser' is deprecated and will be removed in a future version. Please use 'date_format' instead, or read your data in as 'object' dtype and then call 'to_datetime'.\n",
      "  industry_portfolios = web.DataReader(data, 'famafrench', start=start_date, end = end_date)\n",
      "/tmp/ipykernel_1153/3211062329.py:12: FutureWarning: The argument 'date_parser' is deprecated and will be removed in a future version. Please use 'date_format' instead, or read your data in as 'object' dtype and then call 'to_datetime'.\n",
      "  industry_portfolios = web.DataReader(data, 'famafrench', start=start_date, end = end_date)\n",
      "/tmp/ipykernel_1153/3211062329.py:12: FutureWarning: The argument 'date_parser' is deprecated and will be removed in a future version. Please use 'date_format' instead, or read your data in as 'object' dtype and then call 'to_datetime'.\n",
      "  industry_portfolios = web.DataReader(data, 'famafrench', start=start_date, end = end_date)\n",
      "/tmp/ipykernel_1153/3211062329.py:12: FutureWarning: The argument 'date_parser' is deprecated and will be removed in a future version. Please use 'date_format' instead, or read your data in as 'object' dtype and then call 'to_datetime'.\n",
      "  industry_portfolios = web.DataReader(data, 'famafrench', start=start_date, end = end_date)\n",
      "/tmp/ipykernel_1153/3211062329.py:12: FutureWarning: The argument 'date_parser' is deprecated and will be removed in a future version. Please use 'date_format' instead, or read your data in as 'object' dtype and then call 'to_datetime'.\n",
      "  industry_portfolios = web.DataReader(data, 'famafrench', start=start_date, end = end_date)\n",
      "/tmp/ipykernel_1153/3211062329.py:12: FutureWarning: The argument 'date_parser' is deprecated and will be removed in a future version. Please use 'date_format' instead, or read your data in as 'object' dtype and then call 'to_datetime'.\n",
      "  industry_portfolios = web.DataReader(data, 'famafrench', start=start_date, end = end_date)\n",
      "/tmp/ipykernel_1153/3211062329.py:12: FutureWarning: The argument 'date_parser' is deprecated and will be removed in a future version. Please use 'date_format' instead, or read your data in as 'object' dtype and then call 'to_datetime'.\n",
      "  industry_portfolios = web.DataReader(data, 'famafrench', start=start_date, end = end_date)\n"
     ]
    }
   ],
   "source": [
    "import numpy as np\n",
    "import pandas_datareader.data as web\n",
    "from datetime import datetime\n",
    "\n",
    "# parameters\n",
    "start_date = datetime(2018, 1, 1)\n",
    "end_date = datetime(2023, 1, 1)\n",
    "data = '12_Industry_portfolios'\n",
    "equal_weight = 1 # change this dummy variable to 0 for value weighted returns\n",
    "\n",
    "# grabbing the data\n",
    "industry_portfolios = web.DataReader(data, 'famafrench', start=start_date, end = end_date)\n",
    "\n",
    "# We grabbed a dictionary of lists, key 0,1,2 = (avg vw returns), (avg equal w returns), (DESCR) \n",
    "df = np.log(1 + industry_portfolios[equal_weight]/100) #double check this formula\n",
    "\n",
    "df.to_csv(f'../../data/raw/{data}.csv')\n",
    "\n",
    "# this uses date_parser instead of date_format so is suboptimal speed wise. With our data size, not really a problem.\n",
    "# But this approach will be depreciated in future versions. \n"
   ]
  },
  {
   "cell_type": "markdown",
   "metadata": {},
   "source": [
    "# Grabbing simple returns"
   ]
  },
  {
   "cell_type": "code",
   "execution_count": 2,
   "metadata": {},
   "outputs": [
    {
     "name": "stderr",
     "output_type": "stream",
     "text": [
      "/tmp/ipykernel_12409/384899940.py:12: FutureWarning: The argument 'date_parser' is deprecated and will be removed in a future version. Please use 'date_format' instead, or read your data in as 'object' dtype and then call 'to_datetime'.\n",
      "  industry_portfolios = web.DataReader(data, 'famafrench', start=start_date, end = end_date)\n",
      "/tmp/ipykernel_12409/384899940.py:12: FutureWarning: The argument 'date_parser' is deprecated and will be removed in a future version. Please use 'date_format' instead, or read your data in as 'object' dtype and then call 'to_datetime'.\n",
      "  industry_portfolios = web.DataReader(data, 'famafrench', start=start_date, end = end_date)\n"
     ]
    }
   ],
   "source": [
    "import numpy as np\n",
    "import pandas_datareader.data as web\n",
    "from datetime import datetime\n",
    "\n",
    "# parameters\n",
    "start_date = datetime(2017, 11, 9)\n",
    "end_date = datetime(2023, 9, 30)\n",
    "data = '12_Industry_portfolios_Daily'\n",
    "equal_weight = 1 # change this dummy variable to 0 for value weighted returns\n",
    "\n",
    "# grabbing the data\n",
    "industry_portfolios = web.DataReader(data, 'famafrench', start=start_date, end = end_date)\n",
    "\n",
    "# We grabbed a dictionary of lists, key 0,1,2 = (avg vw returns), (avg equal w returns), (DESCR) \n",
    "df = industry_portfolios[equal_weight]/100\n",
    "\n",
    "df.to_csv(f'../../data/raw/{data}.csv')\n",
    "\n",
    "# this uses date_parser instead of date_format so is suboptimal speed wise. With our data size, not really a problem.\n",
    "# But this approach will be depreciated in future versions. \n"
   ]
  },
  {
   "cell_type": "code",
   "execution_count": null,
   "metadata": {},
   "outputs": [],
   "source": []
  }
 ],
 "metadata": {
  "kernelspec": {
   "display_name": "myenv",
   "language": "python",
   "name": "python3"
  },
  "language_info": {
   "codemirror_mode": {
    "name": "ipython",
    "version": 3
   },
   "file_extension": ".py",
   "mimetype": "text/x-python",
   "name": "python",
   "nbconvert_exporter": "python",
   "pygments_lexer": "ipython3",
   "version": "3.11.5"
  }
 },
 "nbformat": 4,
 "nbformat_minor": 2
}
