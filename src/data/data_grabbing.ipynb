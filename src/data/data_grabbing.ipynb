{
 "cells": [
  {
   "cell_type": "markdown",
   "metadata": {},
   "source": [
    "# Data grabbing notebook\n",
    "This notebook contains the code for grabbing the data for the industry portfolio returns from the Fama&French website and the currency pairs of chosen cryptocurrencies in relation to USD from Yahoo finance. Data from the latter also gets transformed into an equivalent csv file of ordinary returns. The main parameters for the two scripts are put here in the beginning for your convenience. "
   ]
  },
  {
   "cell_type": "code",
   "execution_count": 14,
   "metadata": {},
   "outputs": [],
   "source": [
    "import os\n",
    "from datetime import datetime\n",
    "import numpy as np\n",
    "import pandas as pd\n",
    "import pandas_datareader.data as web\n",
    "import yfinance as yf\n",
    "\n",
    "start_date = datetime(2017, 11, 9)\n",
    "end_date = datetime(2023, 9, 30)\n",
    "\n",
    "# Creating data folders\n",
    "\n",
    "\n",
    "data_industry = '12_Industry_portfolios_Daily'\n",
    "#data_industry = \n",
    "#data_industry = \n",
    "#data_industry = \n",
    "\n",
    "tickers_crypto = [\"BTC-USD\", \"ETH-USD\", \"XRP-USD\"] #add more tickers here\n",
    "#tickers_crypto = [\"BTC-USD\", \"ETH-USD\", \"XRP-USD\", \"BNB-USD\"] \n",
    "#tickers_crypto = [\"BTC-USD\", \"ETH-USD\", \"XRP-USD\", \"BNB-USD\", \"USDT-USD\"]"
   ]
  },
  {
   "cell_type": "code",
   "execution_count": 15,
   "metadata": {},
   "outputs": [],
   "source": [
    "#Making folders for data raw, processed and interim data\n",
    "directory_path = '../../data/raw'\n",
    "directory_path = '../../data/interim'\n",
    "directory_path = '../../data/processed'\n",
    "if not os.path.exists(directory_path):\n",
    "    os.makedirs(directory_path)"
   ]
  },
  {
   "cell_type": "markdown",
   "metadata": {},
   "source": [
    "### Industry portfolios from Ken French data library"
   ]
  },
  {
   "cell_type": "code",
   "execution_count": 16,
   "metadata": {},
   "outputs": [
    {
     "name": "stderr",
     "output_type": "stream",
     "text": [
      "c:\\ProgramData\\Anaconda3\\lib\\site-packages\\pandas_datareader\\famafrench.py:114: FutureWarning: The argument 'date_parser' is deprecated and will be removed in a future version. Please use 'date_format' instead, or read your data in as 'object' dtype and then call 'to_datetime'.\n",
      "  df = read_csv(StringIO(\"Date\" + src[start:]), **params)\n",
      "c:\\ProgramData\\Anaconda3\\lib\\site-packages\\pandas_datareader\\famafrench.py:114: FutureWarning: The argument 'date_parser' is deprecated and will be removed in a future version. Please use 'date_format' instead, or read your data in as 'object' dtype and then call 'to_datetime'.\n",
      "  df = read_csv(StringIO(\"Date\" + src[start:]), **params)\n"
     ]
    }
   ],
   "source": [
    "# change this dummy variable to 0 for value weighted returns\n",
    "equal_weight = 1 \n",
    "\n",
    "# grabbing the data\n",
    "industry_portfolios = web.DataReader(data_industry, 'famafrench', start=start_date, end = end_date)\n",
    "\n",
    "# We grabbed a dictionary of lists, key 0,1,2 = (avg vw returns), (avg equal w returns), (DESCR) \n",
    "df = industry_portfolios[equal_weight]/100\n",
    "\n",
    "df.to_csv(f'../../data/raw/industry_returns.csv')\n",
    "\n",
    "# this uses date_parser instead of date_format so is suboptimal speed wise. With our data size, not really a problem.\n",
    "# But this approach will be depreciated in future versions. \n"
   ]
  },
  {
   "cell_type": "markdown",
   "metadata": {},
   "source": [
    "### Crypto returns from yahoo finance"
   ]
  },
  {
   "cell_type": "code",
   "execution_count": 17,
   "metadata": {},
   "outputs": [
    {
     "name": "stdout",
     "output_type": "stream",
     "text": [
      "[*********************100%%**********************]  1 of 1 completed\n",
      "[*********************100%%**********************]  1 of 1 completed\n",
      "[*********************100%%**********************]  1 of 1 completed\n"
     ]
    }
   ],
   "source": [
    "# empty df for storing values\n",
    "crypto_returns = pd.DataFrame()\n",
    "\n",
    "# loop for grabbing returns for provided tickers\n",
    "for ticker in tickers_crypto:\n",
    "    data = yf.download(ticker, start=start_date, end=end_date)\n",
    "    \n",
    "    # computing log returns w adjusted closing prices\n",
    "    simple_return = data['Adj Close'].pct_change()\n",
    "    \n",
    "    # converting to df and naming column\n",
    "    simple_return = simple_return.to_frame(name=ticker) \n",
    "\n",
    "    if crypto_returns.empty: # handles first iteration\n",
    "        crypto_returns = simple_return \n",
    "    else: # i.e. the subsequent iterations\n",
    "        crypto_returns = crypto_returns.join(simple_return, how=\"outer\")\n",
    "\n",
    "crypto_returns = crypto_returns[1:] # removing first row (NaN)\n",
    "\n",
    "crypto_returns.to_csv('../../data/raw/crypto_returns.csv')"
   ]
  },
  {
   "cell_type": "code",
   "execution_count": null,
   "metadata": {},
   "outputs": [],
   "source": []
  }
 ],
 "metadata": {
  "kernelspec": {
   "display_name": "myenv",
   "language": "python",
   "name": "python3"
  },
  "language_info": {
   "codemirror_mode": {
    "name": "ipython",
    "version": 3
   },
   "file_extension": ".py",
   "mimetype": "text/x-python",
   "name": "python",
   "nbconvert_exporter": "python",
   "pygments_lexer": "ipython3",
   "version": "3.8.8"
  }
 },
 "nbformat": 4,
 "nbformat_minor": 2
}
