{
 "cells": [
  {
   "cell_type": "markdown",
   "metadata": {},
   "source": [
    "# Data grabbing notebook\n",
    "This notebook contains the data grabbing code for the industry portfolios and the crypto returns. The main parameters for the two scripts are put here in the beginning for your convenience. "
   ]
  },
  {
   "cell_type": "code",
   "execution_count": 4,
   "metadata": {},
   "outputs": [],
   "source": [
    "from datetime import datetime\n",
    "import numpy as np\n",
    "import pandas as pd\n",
    "import pandas_datareader.data as web\n",
    "import yfinance as yf\n",
    "\n",
    "start_date = datetime(2017, 11, 9)\n",
    "end_date = datetime(2023, 9, 30)\n",
    "\n",
    "data_industry = '12_Industry_portfolios_Daily'\n",
    "#data_industry = \n",
    "#data_industry = \n",
    "#data_industry = \n",
    "\n",
    "tickers_crypto = [\"BTC-USD\", \"ETH-USD\", \"XRP-USD\"] #add more tickers here\n",
    "#tickers_crypto = [\"BTC-USD\", \"ETH-USD\", \"XRP-USD\", \"BNB-USD\"] \n",
    "#tickers_crypto = [\"BTC-USD\", \"ETH-USD\", \"XRP-USD\", \"BNB-USD\", \"USDT-USD\"]"
   ]
  },
  {
   "cell_type": "markdown",
   "metadata": {},
   "source": [
    "### Industry portfolios from Ken French data library"
   ]
  },
  {
   "cell_type": "code",
   "execution_count": 2,
   "metadata": {},
   "outputs": [
    {
     "name": "stderr",
     "output_type": "stream",
     "text": [
      "/tmp/ipykernel_45998/2284503902.py:5: FutureWarning: The argument 'date_parser' is deprecated and will be removed in a future version. Please use 'date_format' instead, or read your data in as 'object' dtype and then call 'to_datetime'.\n",
      "  industry_portfolios = web.DataReader(data_industry, 'famafrench', start=start_date, end = end_date)\n",
      "/tmp/ipykernel_45998/2284503902.py:5: FutureWarning: The argument 'date_parser' is deprecated and will be removed in a future version. Please use 'date_format' instead, or read your data in as 'object' dtype and then call 'to_datetime'.\n",
      "  industry_portfolios = web.DataReader(data_industry, 'famafrench', start=start_date, end = end_date)\n"
     ]
    }
   ],
   "source": [
    "# change this dummy variable to 0 for value weighted returns\n",
    "equal_weight = 1 \n",
    "\n",
    "# grabbing the data\n",
    "industry_portfolios = web.DataReader(data_industry, 'famafrench', start=start_date, end = end_date)\n",
    "\n",
    "# We grabbed a dictionary of lists, key 0,1,2 = (avg vw returns), (avg equal w returns), (DESCR) \n",
    "df = industry_portfolios[equal_weight]/100\n",
    "\n",
    "df.to_csv(f'../../data/industry_returns.csv')\n",
    "\n",
    "# this uses date_parser instead of date_format so is suboptimal speed wise. With our data size, not really a problem.\n",
    "# But this approach will be depreciated in future versions. \n"
   ]
  },
  {
   "cell_type": "markdown",
   "metadata": {},
   "source": [
    "### Crypto returns from yahoo finance"
   ]
  },
  {
   "cell_type": "code",
   "execution_count": 5,
   "metadata": {},
   "outputs": [
    {
     "name": "stdout",
     "output_type": "stream",
     "text": [
      "[*********************100%%**********************]  1 of 1 completed\n",
      "[*********************100%%**********************]  1 of 1 completed\n",
      "[*********************100%%**********************]  1 of 1 completed\n"
     ]
    }
   ],
   "source": [
    "# empty df for storing values\n",
    "crypto_returns = pd.DataFrame()\n",
    "\n",
    "# loop for grabbing returns for provided tickers\n",
    "for ticker in tickers_crypto:\n",
    "    data = yf.download(ticker, start=start_date, end=end_date)\n",
    "    \n",
    "    # computing log returns w adjusted closing prices\n",
    "    simple_return = data['Adj Close'].pct_change()\n",
    "    \n",
    "    # converting to df and naming column\n",
    "    simple_return = simple_return.to_frame(name=ticker) \n",
    "\n",
    "    if crypto_returns.empty: # handles first iteration\n",
    "        crypto_returns = simple_return \n",
    "    else: # i.e. the subsequent iterations\n",
    "        crypto_returns = crypto_returns.join(simple_return, how=\"outer\")\n",
    "\n",
    "crypto_returns = crypto_returns[1:] # removing first row (NaN)\n",
    "\n",
    "crypto_returns.to_csv('../../data/crypto_returns.csv')"
   ]
  },
  {
   "cell_type": "code",
   "execution_count": null,
   "metadata": {},
   "outputs": [],
   "source": []
  }
 ],
 "metadata": {
  "kernelspec": {
   "display_name": "myenv",
   "language": "python",
   "name": "python3"
  },
  "language_info": {
   "codemirror_mode": {
    "name": "ipython",
    "version": 3
   },
   "file_extension": ".py",
   "mimetype": "text/x-python",
   "name": "python",
   "nbconvert_exporter": "python",
   "pygments_lexer": "ipython3",
   "version": "3.11.5"
  }
 },
 "nbformat": 4,
 "nbformat_minor": 2
}
