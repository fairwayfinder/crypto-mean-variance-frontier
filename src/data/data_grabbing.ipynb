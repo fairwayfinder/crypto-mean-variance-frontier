{
 "cells": [
  {
   "cell_type": "markdown",
   "metadata": {},
   "source": [
    "# Data grabbing notebook\n",
    "This notebook contains the data grabbing code for the industry portfolios and the crypto returns. The main parameters for the two scripts are put here in the beginning for your convenience. "
   ]
  },
  {
   "cell_type": "code",
   "execution_count": 1,
   "metadata": {},
   "outputs": [],
   "source": [
    "from datetime import datetime\n",
    "import numpy as np\n",
    "import pandas as pd\n",
    "import pandas_datareader.data as web\n",
    "import yfinance as yf\n",
    "\n",
    "start_date = datetime(2017, 11, 9)\n",
    "end_date = datetime(2023, 9, 30)\n",
    "\n",
    "data_industry = '12_Industry_portfolios_Daily'\n",
    "#data_industry = \n",
    "#data_industry = \n",
    "#data_industry = \n",
    "\n",
    "tickers_crypto = [\"BTC-USD\", \"ETH-USD\", \"XRP-USD\"] #add more tickers here\n",
    "#tickers_crypto = [\"BTC-USD\", \"ETH-USD\", \"XRP-USD\", \"BNB-USD\"] \n",
    "#tickers_crypto = [\"BTC-USD\", \"ETH-USD\", \"XRP-USD\", \"BNB-USD\", \"USDT-USD\"]"
   ]
  },
  {
   "cell_type": "markdown",
   "metadata": {},
   "source": [
    "### Industry portfolios from Ken French data library"
   ]
  },
  {
   "cell_type": "code",
   "execution_count": 2,
   "metadata": {},
   "outputs": [
    {
     "name": "stderr",
     "output_type": "stream",
     "text": [
      "/tmp/ipykernel_49013/2284503902.py:5: FutureWarning: The argument 'date_parser' is deprecated and will be removed in a future version. Please use 'date_format' instead, or read your data in as 'object' dtype and then call 'to_datetime'.\n",
      "  industry_portfolios = web.DataReader(data_industry, 'famafrench', start=start_date, end = end_date)\n",
      "/tmp/ipykernel_49013/2284503902.py:5: FutureWarning: The argument 'date_parser' is deprecated and will be removed in a future version. Please use 'date_format' instead, or read your data in as 'object' dtype and then call 'to_datetime'.\n",
      "  industry_portfolios = web.DataReader(data_industry, 'famafrench', start=start_date, end = end_date)\n"
     ]
    }
   ],
   "source": [
    "# change this dummy variable to 0 for value weighted returns\n",
    "equal_weight = 1 \n",
    "\n",
    "# grabbing the data\n",
    "industry_portfolios = web.DataReader(data_industry, 'famafrench', start=start_date, end = end_date)\n",
    "\n",
    "# We grabbed a dictionary of lists, key 0,1,2 = (avg vw returns), (avg equal w returns), (DESCR) \n",
    "df = industry_portfolios[equal_weight]/100\n",
    "\n",
    "df.to_csv(f'../../data/industry_returns.csv')\n",
    "\n",
    "# this uses date_parser instead of date_format so is suboptimal speed wise. With our data size, not really a problem.\n",
    "# But this approach will be depreciated in future versions. \n"
   ]
  },
  {
   "cell_type": "markdown",
   "metadata": {},
   "source": [
    "### Crypto returns from yahoo finance"
   ]
  },
  {
   "cell_type": "code",
   "execution_count": 3,
   "metadata": {},
   "outputs": [],
   "source": [
    "# # empty df for storing values\n",
    "# crypto_returns = pd.DataFrame()\n",
    "\n",
    "# # loop for grabbing returns for provided tickers\n",
    "# for ticker in tickers_crypto:\n",
    "#     data = yf.download(ticker, start=start_date, end=end_date)\n",
    "    \n",
    "#     # computing log returns w adjusted closing prices\n",
    "#     simple_return = data['Adj Close'].pct_change()\n",
    "    \n",
    "#     # converting to df and naming column\n",
    "#     simple_return = simple_return.to_frame(name=ticker) \n",
    "\n",
    "#     if crypto_returns.empty: # handles first iteration\n",
    "#         crypto_returns = simple_return \n",
    "#     else: # i.e. the subsequent iterations\n",
    "#         crypto_returns = crypto_returns.join(simple_return, how=\"outer\")\n",
    "\n",
    "# crypto_returns = crypto_returns[1:] # removing first row (NaN)\n",
    "\n",
    "# crypto_returns.to_csv('../../data/crypto_returns.csv')"
   ]
  },
  {
   "cell_type": "markdown",
   "metadata": {},
   "source": [
    "### Crypto prices yahoo finance"
   ]
  },
  {
   "cell_type": "code",
   "execution_count": 4,
   "metadata": {},
   "outputs": [
    {
     "name": "stdout",
     "output_type": "stream",
     "text": [
      "[*********************100%%**********************]  1 of 1 completed\n",
      "[*********************100%%**********************]  1 of 1 completed\n",
      "[*********************100%%**********************]  1 of 1 completed\n"
     ]
    }
   ],
   "source": [
    "# empty df for storing values\n",
    "crypto_prices = pd.DataFrame()\n",
    "\n",
    "# loop for grabbing returns for provided tickers\n",
    "for ticker in tickers_crypto:\n",
    "    data = yf.download(ticker, start=start_date, end=end_date)\n",
    "    \n",
    "    # grabbing adj close price\n",
    "    price = data['Adj Close']\n",
    "    \n",
    "    # converting to df and naming column\n",
    "    price = price.to_frame(name=ticker) \n",
    "\n",
    "    if price.empty: # handles first iteration\n",
    "        price = simple_return \n",
    "    else: # i.e. the subsequent iterations\n",
    "        crypto_prices = crypto_prices.join(price, how=\"outer\")\n",
    "\n"
   ]
  },
  {
   "cell_type": "markdown",
   "metadata": {},
   "source": [
    "Since the crypto data trades on dates where the Industry stocks do not, we need to calculate the crypto returns between the dates we have return data for the industry. "
   ]
  },
  {
   "cell_type": "markdown",
   "metadata": {},
   "source": [
    "### Adjusting the start and end date to match both our datasets"
   ]
  },
  {
   "cell_type": "code",
   "execution_count": 5,
   "metadata": {},
   "outputs": [
    {
     "name": "stdout",
     "output_type": "stream",
     "text": [
      "2017-11-09 00:00:00\n",
      "2023-09-29 00:00:00\n"
     ]
    }
   ],
   "source": [
    "# This shouldn't be needed with the approach we used.\n",
    "\n",
    "start_date = max(df.index.min(), crypto_prices.index.min())\n",
    "end_date = min(df.index.max(), crypto_prices.index.max())\n",
    "\n",
    "print(start_date) \n",
    "print(end_date)"
   ]
  },
  {
   "cell_type": "markdown",
   "metadata": {},
   "source": [
    "### Removing crypto price data for days that industry doesn't trade"
   ]
  },
  {
   "cell_type": "markdown",
   "metadata": {},
   "source": [
    "This approach should underestimate the volatility of the crypto a bit maybe? It will definetly skew the reflection of the true return behavior of the cryptos a little bit. But this effect can be argued to be marginal. (we have some information loss since the removed trading days can include some significant price movements --> thus the variance could be under/over estimated)\n"
   ]
  },
  {
   "cell_type": "code",
   "execution_count": 6,
   "metadata": {},
   "outputs": [
    {
     "data": {
      "text/html": [
       "<div>\n",
       "<style scoped>\n",
       "    .dataframe tbody tr th:only-of-type {\n",
       "        vertical-align: middle;\n",
       "    }\n",
       "\n",
       "    .dataframe tbody tr th {\n",
       "        vertical-align: top;\n",
       "    }\n",
       "\n",
       "    .dataframe thead th {\n",
       "        text-align: right;\n",
       "    }\n",
       "</style>\n",
       "<table border=\"1\" class=\"dataframe\">\n",
       "  <thead>\n",
       "    <tr style=\"text-align: right;\">\n",
       "      <th></th>\n",
       "      <th>BTC-USD</th>\n",
       "      <th>ETH-USD</th>\n",
       "      <th>XRP-USD</th>\n",
       "    </tr>\n",
       "    <tr>\n",
       "      <th>Date</th>\n",
       "      <th></th>\n",
       "      <th></th>\n",
       "      <th></th>\n",
       "    </tr>\n",
       "  </thead>\n",
       "  <tbody>\n",
       "    <tr>\n",
       "      <th>2017-11-09</th>\n",
       "      <td>NaN</td>\n",
       "      <td>NaN</td>\n",
       "      <td>NaN</td>\n",
       "    </tr>\n",
       "    <tr>\n",
       "      <th>2017-11-10</th>\n",
       "      <td>-0.073554</td>\n",
       "      <td>-0.067411</td>\n",
       "      <td>-0.050600</td>\n",
       "    </tr>\n",
       "    <tr>\n",
       "      <th>2017-11-13</th>\n",
       "      <td>-0.008862</td>\n",
       "      <td>0.058355</td>\n",
       "      <td>-0.014728</td>\n",
       "    </tr>\n",
       "    <tr>\n",
       "      <th>2017-11-14</th>\n",
       "      <td>0.011626</td>\n",
       "      <td>0.066037</td>\n",
       "      <td>0.031375</td>\n",
       "    </tr>\n",
       "    <tr>\n",
       "      <th>2017-11-15</th>\n",
       "      <td>0.102444</td>\n",
       "      <td>-0.012659</td>\n",
       "      <td>0.014922</td>\n",
       "    </tr>\n",
       "    <tr>\n",
       "      <th>...</th>\n",
       "      <td>...</td>\n",
       "      <td>...</td>\n",
       "      <td>...</td>\n",
       "    </tr>\n",
       "    <tr>\n",
       "      <th>2023-09-25</th>\n",
       "      <td>-0.010575</td>\n",
       "      <td>-0.003104</td>\n",
       "      <td>-0.013754</td>\n",
       "    </tr>\n",
       "    <tr>\n",
       "      <th>2023-09-26</th>\n",
       "      <td>-0.003089</td>\n",
       "      <td>0.003207</td>\n",
       "      <td>-0.007425</td>\n",
       "    </tr>\n",
       "    <tr>\n",
       "      <th>2023-09-27</th>\n",
       "      <td>0.005167</td>\n",
       "      <td>0.002557</td>\n",
       "      <td>-0.004208</td>\n",
       "    </tr>\n",
       "    <tr>\n",
       "      <th>2023-09-28</th>\n",
       "      <td>0.025380</td>\n",
       "      <td>0.034674</td>\n",
       "      <td>0.019872</td>\n",
       "    </tr>\n",
       "    <tr>\n",
       "      <th>2023-09-29</th>\n",
       "      <td>-0.004064</td>\n",
       "      <td>0.009112</td>\n",
       "      <td>0.023932</td>\n",
       "    </tr>\n",
       "  </tbody>\n",
       "</table>\n",
       "<p>1481 rows × 3 columns</p>\n",
       "</div>"
      ],
      "text/plain": [
       "             BTC-USD   ETH-USD   XRP-USD\n",
       "Date                                    \n",
       "2017-11-09       NaN       NaN       NaN\n",
       "2017-11-10 -0.073554 -0.067411 -0.050600\n",
       "2017-11-13 -0.008862  0.058355 -0.014728\n",
       "2017-11-14  0.011626  0.066037  0.031375\n",
       "2017-11-15  0.102444 -0.012659  0.014922\n",
       "...              ...       ...       ...\n",
       "2023-09-25 -0.010575 -0.003104 -0.013754\n",
       "2023-09-26 -0.003089  0.003207 -0.007425\n",
       "2023-09-27  0.005167  0.002557 -0.004208\n",
       "2023-09-28  0.025380  0.034674  0.019872\n",
       "2023-09-29 -0.004064  0.009112  0.023932\n",
       "\n",
       "[1481 rows x 3 columns]"
      ]
     },
     "execution_count": 6,
     "metadata": {},
     "output_type": "execute_result"
    }
   ],
   "source": [
    "# Reindex crypto_prices to only include dates that are present in df\n",
    "aligned_crypto_prices = crypto_prices.reindex(df.index)\n",
    "\n",
    "aligned_crypto_prices.dropna(inplace=True) # also removing industry returns on dates we don't have crypto returns\n",
    "# the approach on above line of code is pretty flawed?\n",
    "\n",
    "crypto_returns = aligned_crypto_prices.pct_change()\n",
    "crypto_returns"
   ]
  },
  {
   "cell_type": "markdown",
   "metadata": {},
   "source": [
    "### Comparing the index values in the two df:s"
   ]
  },
  {
   "cell_type": "code",
   "execution_count": 7,
   "metadata": {},
   "outputs": [
    {
     "name": "stdout",
     "output_type": "stream",
     "text": [
      "[]\n"
     ]
    }
   ],
   "source": [
    "# Convert the indices to sets\n",
    "dates_in_df = set(df.index)\n",
    "dates_in_crypto_returns = set(crypto_returns.index)\n",
    "\n",
    "# Find dates that are only in crypto_returns\n",
    "dates_only_in_crypto_returns = dates_in_crypto_returns - dates_in_df\n",
    "\n",
    "# Convert to a sorted list for easier viewing or further processing\n",
    "dates_only_in_crypto_returns = sorted(list(dates_only_in_crypto_returns))\n",
    "\n",
    "# Print or inspect the dates\n",
    "print(dates_only_in_crypto_returns)\n"
   ]
  },
  {
   "cell_type": "markdown",
   "metadata": {},
   "source": [
    "### Saving crypto returns as csv"
   ]
  },
  {
   "cell_type": "code",
   "execution_count": 8,
   "metadata": {},
   "outputs": [],
   "source": [
    "crypto_returns = crypto_returns[1:] # removing first row (NaN)\n",
    "\n",
    "crypto_returns.to_csv('../../data/crypto_returns.csv')"
   ]
  },
  {
   "cell_type": "code",
   "execution_count": null,
   "metadata": {},
   "outputs": [],
   "source": []
  }
 ],
 "metadata": {
  "kernelspec": {
   "display_name": "myenv",
   "language": "python",
   "name": "python3"
  },
  "language_info": {
   "codemirror_mode": {
    "name": "ipython",
    "version": 3
   },
   "file_extension": ".py",
   "mimetype": "text/x-python",
   "name": "python",
   "nbconvert_exporter": "python",
   "pygments_lexer": "ipython3",
   "version": "3.11.5"
  }
 },
 "nbformat": 4,
 "nbformat_minor": 2
}
