{
 "cells": [
  {
   "cell_type": "code",
   "execution_count": 2,
   "metadata": {},
   "outputs": [],
   "source": [
    "import pandas as pd #just to save the df as csv\n",
    "import yfinance as yf\n",
    "\n",
    "# This script grabs data for \n",
    "\n",
    "# You can change these parameters depending on what data you want\n",
    "start_date = '2019-11-22' \n",
    "end_date = '2023-07-31'\n",
    "ticker = 'GDLC'\n",
    "\n",
    "# Grabbing the data\n",
    "data = yf.download(ticker, start=start_date, end=end_date, progress=False)\n",
    "\n",
    "#saving the data\n",
    "data.to_csv(f'../../data/raw/{ticker}.csv')"
   ]
  },
  {
   "cell_type": "markdown",
   "metadata": {},
   "source": [
    "# testing loop for cryptos"
   ]
  },
  {
   "cell_type": "markdown",
   "metadata": {},
   "source": [
    "### Grabbing monthly log returns"
   ]
  },
  {
   "cell_type": "code",
   "execution_count": 2,
   "metadata": {},
   "outputs": [],
   "source": [
    "import numpy as np\n",
    "import pandas as pd\n",
    "import yfinance as yf\n",
    "\n",
    "# Parameters\n",
    "start_date = '2018-01-01' \n",
    "end_date = '2023-01-01'\n",
    "tickers = [\"BTC-USD\", \"ETH-USD\", \"XRP-USD\", \"BNB-USD\", \"USDT-USD\"] #add more tickers here\n",
    "\n",
    "# empty df for storing values\n",
    "crypto_returns = pd.DataFrame()\n",
    "\n",
    "for ticker in tickers:\n",
    "    data = yf.download(ticker, start=start_date, end=end_date, period='1mo', progress=False)\n",
    "    \n",
    "    # computing log returns w adjusted closing prices\n",
    "    log_return = np.log(data['Adj Close'] / data['Adj Close'].shift(1))\n",
    "    \n",
    "    # converting to df and naming column\n",
    "    log_return = log_return.to_frame(name=ticker) \n",
    "\n",
    "    if crypto_returns.empty: # handles first iteration\n",
    "        crypto_returns = log_return \n",
    "    else: # i.e. the subsequent iterations\n",
    "        crypto_returns = crypto_returns.join(log_return, how=\"outer\")\n",
    "\n",
    "crypto_returns = crypto_returns[1:] # removing first row (NaN)\n",
    "\n",
    "crypto_returns.to_csv('../../data/raw/crypto_returns.csv')\n",
    "\n",
    "\n",
    "\n",
    "\n",
    "\n",
    "\n"
   ]
  },
  {
   "cell_type": "markdown",
   "metadata": {},
   "source": [
    "### Grabbing daily simple returns"
   ]
  },
  {
   "cell_type": "code",
   "execution_count": 1,
   "metadata": {},
   "outputs": [
    {
     "name": "stdout",
     "output_type": "stream",
     "text": [
      "[*********************100%%**********************]  1 of 1 completed\n",
      "[*********************100%%**********************]  1 of 1 completed\n",
      "[*********************100%%**********************]  1 of 1 completed\n"
     ]
    }
   ],
   "source": [
    "import numpy as np\n",
    "import pandas as pd\n",
    "import yfinance as yf\n",
    "\n",
    "# Parameters\n",
    "start_date = '2018-01-01' \n",
    "end_date = '2023-01-01'\n",
    "#tickers = [\"BTC-USD\", \"ETH-USD\", \"XRP-USD\", \"BNB-USD\", \"USDT-USD\"] #add more tickers here\n",
    "tickers = [\"BTC-USD\", \"ETH-USD\", \"XRP-USD\"] #add more tickers here\n",
    "\n",
    "# empty df for storing values\n",
    "crypto_returns = pd.DataFrame()\n",
    "\n",
    "for ticker in tickers:\n",
    "    data = yf.download(ticker, start=start_date, end=end_date)\n",
    "    \n",
    "    # computing log returns w adjusted closing prices\n",
    "    simple_return = data['Adj Close'].pct_change()\n",
    "    \n",
    "    # converting to df and naming column\n",
    "    simple_return = simple_return.to_frame(name=ticker) \n",
    "\n",
    "    if crypto_returns.empty: # handles first iteration\n",
    "        crypto_returns = simple_return \n",
    "    else: # i.e. the subsequent iterations\n",
    "        crypto_returns = crypto_returns.join(simple_return, how=\"outer\")\n",
    "\n",
    "crypto_returns = crypto_returns[1:] # removing first row (NaN)\n",
    "\n",
    "crypto_returns.to_csv('../../data/raw/crypto_returns.csv')"
   ]
  },
  {
   "cell_type": "code",
   "execution_count": null,
   "metadata": {},
   "outputs": [],
   "source": []
  }
 ],
 "metadata": {
  "kernelspec": {
   "display_name": "myenv",
   "language": "python",
   "name": "python3"
  },
  "language_info": {
   "codemirror_mode": {
    "name": "ipython",
    "version": 3
   },
   "file_extension": ".py",
   "mimetype": "text/x-python",
   "name": "python",
   "nbconvert_exporter": "python",
   "pygments_lexer": "ipython3",
   "version": "3.11.5"
  }
 },
 "nbformat": 4,
 "nbformat_minor": 2
}
