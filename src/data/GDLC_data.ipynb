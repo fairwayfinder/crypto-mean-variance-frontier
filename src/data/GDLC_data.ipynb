{
 "cells": [
  {
   "cell_type": "code",
   "execution_count": 2,
   "metadata": {},
   "outputs": [],
   "source": [
    "import pandas as pd #just to save the df as csv\n",
    "import yfinance as yf\n",
    "\n",
    "# This script grabs data for \n",
    "\n",
    "# You can change these parameters depending on what data you want\n",
    "start_date = '2019-11-22' \n",
    "end_date = '2023-07-31'\n",
    "ticker = 'GDLC'\n",
    "\n",
    "# Grabbing the data\n",
    "data = yf.download(ticker, start=start_date, end=end_date, progress=False)\n",
    "\n",
    "#saving the data\n",
    "data.to_csv(f'../../data/raw/{ticker}.csv')"
   ]
  },
  {
   "cell_type": "code",
   "execution_count": null,
   "metadata": {},
   "outputs": [],
   "source": []
  }
 ],
 "metadata": {
  "kernelspec": {
   "display_name": "myenv",
   "language": "python",
   "name": "python3"
  },
  "language_info": {
   "codemirror_mode": {
    "name": "ipython",
    "version": 3
   },
   "file_extension": ".py",
   "mimetype": "text/x-python",
   "name": "python",
   "nbconvert_exporter": "python",
   "pygments_lexer": "ipython3",
   "version": "3.11.5"
  }
 },
 "nbformat": 4,
 "nbformat_minor": 2
}
