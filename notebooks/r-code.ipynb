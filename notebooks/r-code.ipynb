{
 "cells": [
  {
   "cell_type": "code",
   "execution_count": 1,
   "id": "e463b15a-7304-42ec-b47c-218756bf643e",
   "metadata": {},
   "outputs": [
    {
     "name": "stdout",
     "output_type": "stream",
     "text": [
      "[1] \"TEST\"\n",
      "[1] \"testing testing\"\n"
     ]
    }
   ],
   "source": [
    "print(\"TEST\")\n",
    "\n",
    "x = \"testing testing\"\n",
    "print(x)"
   ]
  },
  {
   "cell_type": "markdown",
   "id": "23672131-7dc0-4b00-a38d-79b2e363d48b",
   "metadata": {},
   "source": [
    "## Testing\n",
    "* test\n",
    "\n",
    "$test_i=\\lambda_i$"
   ]
  },
  {
   "cell_type": "code",
   "execution_count": 5,
   "id": "d2869328-cc84-45c2-9d46-0b0bc4c7a082",
   "metadata": {},
   "outputs": [
    {
     "data": {
      "text/plain": [
       "    Min.  1st Qu.   Median     Mean  3rd Qu.     Max. \n",
       "-2.46128 -0.60509  0.08003 -0.02310  0.60413  1.64369 "
      ]
     },
     "metadata": {},
     "output_type": "display_data"
    }
   ],
   "source": [
    "dataset = rnorm(100)\n",
    "summary(dataset)"
   ]
  },
  {
   "cell_type": "code",
   "execution_count": null,
   "id": "2cf75a8c-a3ab-496a-a107-f8acb696fb55",
   "metadata": {},
   "outputs": [],
   "source": []
  }
 ],
 "metadata": {
  "kernelspec": {
   "display_name": "R",
   "language": "R",
   "name": "ir"
  },
  "language_info": {
   "codemirror_mode": "r",
   "file_extension": ".r",
   "mimetype": "text/x-r-source",
   "name": "R",
   "pygments_lexer": "r",
   "version": "4.3.1"
  }
 },
 "nbformat": 4,
 "nbformat_minor": 5
}
