{
 "cells": [
  {
   "cell_type": "code",
   "execution_count": 1,
   "id": "e463b15a-7304-42ec-b47c-218756bf643e",
   "metadata": {
    "vscode": {
     "languageId": "r"
    }
   },
   "outputs": [
    {
     "name": "stdout",
     "output_type": "stream",
     "text": [
      "[1] \"TEST\"\n",
      "[1] \"testing testing\"\n"
     ]
    }
   ],
   "source": [
    "print(\"TEST\")\n",
    "\n",
    "x = \"testing testing\"\n",
    "print(x)"
   ]
  },
  {
   "cell_type": "markdown",
   "id": "23672131-7dc0-4b00-a38d-79b2e363d48b",
   "metadata": {},
   "source": [
    "## Testing\n",
    "* test\n",
    "\n",
    "$test_i=\\lambda_i$"
   ]
  },
  {
   "cell_type": "code",
   "execution_count": 2,
   "id": "d2869328-cc84-45c2-9d46-0b0bc4c7a082",
   "metadata": {
    "vscode": {
     "languageId": "r"
    }
   },
   "outputs": [
    {
     "data": {
      "text/plain": [
       "   Min. 1st Qu.  Median    Mean 3rd Qu.    Max. \n",
       "-2.5782 -0.3863  0.1674  0.1965  0.8307  2.9491 "
      ]
     },
     "metadata": {},
     "output_type": "display_data"
    }
   ],
   "source": [
    "dataset = rnorm(100)\n",
    "summary(dataset)"
   ]
  },
  {
   "cell_type": "code",
   "execution_count": null,
   "id": "2cf75a8c-a3ab-496a-a107-f8acb696fb55",
   "metadata": {
    "vscode": {
     "languageId": "r"
    }
   },
   "outputs": [],
   "source": []
  },
  {
   "cell_type": "code",
   "execution_count": 3,
   "id": "a9168540-65f5-40d7-a03a-3e53859ba546",
   "metadata": {
    "vscode": {
     "languageId": "r"
    }
   },
   "outputs": [
    {
     "name": "stderr",
     "output_type": "stream",
     "text": [
      "Loading required package: xts\n",
      "\n",
      "Loading required package: zoo\n",
      "\n",
      "\n",
      "Attaching package: ‘zoo’\n",
      "\n",
      "\n",
      "The following objects are masked from ‘package:base’:\n",
      "\n",
      "    as.Date, as.Date.numeric\n",
      "\n",
      "\n",
      "Loading required package: TTR\n",
      "\n",
      "Registered S3 method overwritten by 'quantmod':\n",
      "  method            from\n",
      "  as.zoo.data.frame zoo \n",
      "\n",
      "\n",
      "Attaching package: ‘lubridate’\n",
      "\n",
      "\n",
      "The following objects are masked from ‘package:base’:\n",
      "\n",
      "    date, intersect, setdiff, union\n",
      "\n",
      "\n",
      "\n",
      "Attaching package: ‘fBasics’\n",
      "\n",
      "\n",
      "The following object is masked from ‘package:TTR’:\n",
      "\n",
      "    volatility\n",
      "\n",
      "\n",
      "Loading required package: timeDate\n",
      "\n",
      "Loading required package: timeSeries\n",
      "\n",
      "\n",
      "Attaching package: ‘timeSeries’\n",
      "\n",
      "\n",
      "The following object is masked from ‘package:zoo’:\n",
      "\n",
      "    time<-\n",
      "\n",
      "\n"
     ]
    }
   ],
   "source": [
    "# housekeeping \n",
    "rm(list = ls())\n",
    "\n",
    "# load required packages\n",
    "library(quantmod)\n",
    "library(readr)\n",
    "library(tidyr)\n",
    "library(lubridate)\n",
    "library(fBasics)\n",
    "library(fAssets)\n",
    "library(XML)\n",
    "library(fPortfolio)"
   ]
  },
  {
   "cell_type": "code",
   "execution_count": null,
   "id": "09f19a7f-bbd8-4180-8680-817270a5fabc",
   "metadata": {
    "vscode": {
     "languageId": "r"
    }
   },
   "outputs": [],
   "source": []
  }
 ],
 "metadata": {
  "kernelspec": {
   "display_name": "R",
   "language": "R",
   "name": "ir"
  },
  "language_info": {
   "codemirror_mode": "r",
   "file_extension": ".r",
   "mimetype": "text/x-r-source",
   "name": "R",
   "pygments_lexer": "r",
   "version": "4.2.3"
  }
 },
 "nbformat": 4,
 "nbformat_minor": 5
}
