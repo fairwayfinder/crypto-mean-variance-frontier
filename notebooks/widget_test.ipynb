{
 "cells": [
  {
   "cell_type": "code",
   "execution_count": 3,
   "metadata": {},
   "outputs": [
    {
     "data": {
      "application/vnd.jupyter.widget-view+json": {
       "model_id": "b76f84a2750b4808aa3f02e9b690e282",
       "version_major": 2,
       "version_minor": 0
      },
      "text/plain": [
       "DatePicker(value=None, description='Select a Date')"
      ]
     },
     "metadata": {},
     "output_type": "display_data"
    }
   ],
   "source": [
    "\n",
    "import ipywidgets as widgets\n",
    "from IPython.display import display\n",
    "import pandas as pd\n",
    "import matplotlib.pyplot as plt\n",
    "date_picker = widgets.DatePicker(\n",
    "        description='Select a Date',\n",
    "        disabled=False\n",
    "    )\n",
    "date_picker"
   ]
  },
  {
   "cell_type": "code",
   "execution_count": null,
   "metadata": {},
   "outputs": [],
   "source": [
    "import ipywidgets as widgets\n",
    "from IPython.display import display\n",
    "import pandas as pd\n",
    "import matplotlib.pyplot as plt\n",
    "\n",
    "def plot_ef_with_date_input(n_points, er, cov, er2, cov2, returns_df1, returns_df2):\n",
    "    \"\"\"\n",
    "    Plots two multi-asset efficient frontiers on the same graph with a date input widget\n",
    "    \"\"\"\n",
    "    date_picker = widgets.DatePicker(\n",
    "        description='Select a Date',\n",
    "        disabled=False\n",
    "    )\n",
    "\n",
    "    output_date = widgets.Output()\n",
    "\n",
    "    def plot_efficient_frontiers(selected_date):\n",
    "        with output_date:\n",
    "            # Filter dataframes based on the date the user selected\n",
    "            try:\n",
    "                returns_data1 = returns_df1[returns_df1['Date'] == selected_date]\n",
    "                returns_data2 = returns_df2[returns_df2['Date'] == selected_date]\n",
    "            except KeyError:\n",
    "                print(\"Column names in returns_df1:\", returns_df1.columns)\n",
    "                print(\"Column names in returns_df2:\", returns_df2.columns)\n",
    "                print(\"Error: 'Date' column not found in the DataFrame.\")\n",
    "                return\n",
    "\n",
    "            weights = optimal_weights(n_points, er, cov)\n",
    "            rets = [portfolio_return(w, er) for w in weights]\n",
    "            vols = [portfolio_vol(w, cov) for w in weights]\n",
    "            ef1 = pd.DataFrame({\"Returns\": rets, \"Volatility\": vols})\n",
    "\n",
    "            weights2 = optimal_weights(n_points, er2, cov2)\n",
    "            rets2 = [portfolio_return(w, er2) for w in weights2]\n",
    "            vols2 = [portfolio_vol(w, cov2) for w in weights2]\n",
    "            ef2 = pd.DataFrame({\"Returns\": rets2, \"Volatility\": vols2})\n",
    "\n",
    "            # Plotting both efficient frontiers on the same graph\n",
    "            ax = ef1.plot.line(x=\"Volatility\", y=\"Returns\", style='.-', label='Industry portfolio without cryptocurrencies')\n",
    "            ef2.plot.line(x=\"Volatility\", y=\"Returns\", style='.-', ax=ax, label='Industry portfolio with cryptocurrencies')\n",
    "\n",
    "            ax.set_xlim(left=0.0114, right=0.016)\n",
    "            ax.set_ylim(bottom=0.04, top=0.14)\n",
    "\n",
    "            # Customize the plot as needed\n",
    "            plt.title(\"Efficient Frontier Comparison\")\n",
    "            plt.xlabel(\"Volatility\")\n",
    "            plt.ylabel(\"Returns\")\n",
    "            plt.legend()\n",
    "            plt.grid(True)\n",
    "            plt.show()\n",
    "\n",
    "            return ax\n",
    "\n",
    "    initial_date = date_picker.value\n",
    "    ax = plot_efficient_frontiers(initial_date)\n",
    "\n",
    "    def on_date_change(change):\n",
    "        with output_date:\n",
    "            # Clear previous output\n",
    "            output_date.clear_output(wait=True)\n",
    "            # Display the selected date\n",
    "            print(f\"Selected Date: {change['new']}\")\n",
    "            # Update the plot based on the selected date\n",
    "            ax = plot_efficient_frontiers(change['new'])\n",
    "\n",
    "    date_picker.observe(on_date_change, names='value')\n",
    "\n",
    "    # Display the widgets\n",
    "    display(date_picker)\n",
    "    display(output_date)\n",
    "\n",
    "industry_crypto_combined_plots = plot_ef_with_date_input(200, er[industry], cov.loc[industry, industry], er[industry_and_crypto], cov.loc[industry_and_crypto, industry_and_crypto], test_industry, test_crypto)"
   ]
  }
 ],
 "metadata": {
  "kernelspec": {
   "display_name": "base",
   "language": "python",
   "name": "python3"
  },
  "language_info": {
   "codemirror_mode": {
    "name": "ipython",
    "version": 3
   },
   "file_extension": ".py",
   "mimetype": "text/x-python",
   "name": "python",
   "nbconvert_exporter": "python",
   "pygments_lexer": "ipython3",
   "version": "3.8.8"
  }
 },
 "nbformat": 4,
 "nbformat_minor": 2
}
