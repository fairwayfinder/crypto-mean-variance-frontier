{
 "cells": [
  {
   "cell_type": "markdown",
   "metadata": {},
   "source": [
    "# grabbing the ken french data with pandas datareader"
   ]
  },
  {
   "cell_type": "code",
   "execution_count": 2,
   "metadata": {},
   "outputs": [
    {
     "name": "stderr",
     "output_type": "stream",
     "text": [
      "/tmp/ipykernel_12628/184700652.py:7: FutureWarning: The argument 'date_parser' is deprecated and will be removed in a future version. Please use 'date_format' instead, or read your data in as 'object' dtype and then call 'to_datetime'.\n",
      "  industry_portfolios = web.DataReader('12_Industry_portfolios_Daily', 'famafrench', start = start_date, end = end_date)\n",
      "/tmp/ipykernel_12628/184700652.py:7: FutureWarning: The argument 'date_parser' is deprecated and will be removed in a future version. Please use 'date_format' instead, or read your data in as 'object' dtype and then call 'to_datetime'.\n",
      "  industry_portfolios = web.DataReader('12_Industry_portfolios_Daily', 'famafrench', start = start_date, end = end_date)\n"
     ]
    }
   ],
   "source": [
    "import pandas_datareader.data as web\n",
    "from datetime import datetime\n",
    "\n",
    "start_date = datetime(2019, 11, 22)\n",
    "end_date = datetime(2023, 7, 31)\n",
    "\n",
    "industry_portfolios = web.DataReader('12_Industry_portfolios_Daily', 'famafrench', start = start_date, end = end_date)"
   ]
  },
  {
   "cell_type": "markdown",
   "metadata": {},
   "source": [
    "### Just checking what files we downloaded"
   ]
  },
  {
   "cell_type": "code",
   "execution_count": 3,
   "metadata": {},
   "outputs": [
    {
     "name": "stdout",
     "output_type": "stream",
     "text": [
      "0\n",
      "1\n",
      "DESCR\n",
      "12 Industry portfolios Daily\n",
      "----------------------------\n",
      "\n",
      "This file was created by CMPT_IND_RETS_DAILY using the 202309 CRSP database. It contains value- and equal-weighted returns for 12 industry portfolios. The portfolios are constructed at the end of June. Missing data are indicated by -99.99 or -999. Copyright 2023 Kenneth R. French\n",
      "\n",
      "  0 : Average Value Weighted Returns -- Daily (926 rows x 12 cols)\n",
      "  1 : Average Equal Weighted Returns -- Daily (926 rows x 12 cols)\n"
     ]
    }
   ],
   "source": [
    "for key in industry_portfolios.keys():\n",
    "    print(key)\n",
    "\n",
    "print(industry_portfolios['DESCR'])"
   ]
  },
  {
   "cell_type": "markdown",
   "metadata": {},
   "source": [
    "### Using information above to choose the appropriate data for our dataframe"
   ]
  },
  {
   "cell_type": "code",
   "execution_count": 4,
   "metadata": {},
   "outputs": [
    {
     "data": {
      "text/html": [
       "<div>\n",
       "<style scoped>\n",
       "    .dataframe tbody tr th:only-of-type {\n",
       "        vertical-align: middle;\n",
       "    }\n",
       "\n",
       "    .dataframe tbody tr th {\n",
       "        vertical-align: top;\n",
       "    }\n",
       "\n",
       "    .dataframe thead th {\n",
       "        text-align: right;\n",
       "    }\n",
       "</style>\n",
       "<table border=\"1\" class=\"dataframe\">\n",
       "  <thead>\n",
       "    <tr style=\"text-align: right;\">\n",
       "      <th></th>\n",
       "      <th>NoDur</th>\n",
       "      <th>Durbl</th>\n",
       "      <th>Manuf</th>\n",
       "      <th>Enrgy</th>\n",
       "      <th>Chems</th>\n",
       "      <th>BusEq</th>\n",
       "      <th>Telcm</th>\n",
       "      <th>Utils</th>\n",
       "      <th>Shops</th>\n",
       "      <th>Hlth</th>\n",
       "      <th>Money</th>\n",
       "      <th>Other</th>\n",
       "    </tr>\n",
       "    <tr>\n",
       "      <th>Date</th>\n",
       "      <th></th>\n",
       "      <th></th>\n",
       "      <th></th>\n",
       "      <th></th>\n",
       "      <th></th>\n",
       "      <th></th>\n",
       "      <th></th>\n",
       "      <th></th>\n",
       "      <th></th>\n",
       "      <th></th>\n",
       "      <th></th>\n",
       "      <th></th>\n",
       "    </tr>\n",
       "  </thead>\n",
       "  <tbody>\n",
       "    <tr>\n",
       "      <th>2019-11-22</th>\n",
       "      <td>0.02</td>\n",
       "      <td>-0.12</td>\n",
       "      <td>0.41</td>\n",
       "      <td>-0.40</td>\n",
       "      <td>0.07</td>\n",
       "      <td>0.03</td>\n",
       "      <td>0.46</td>\n",
       "      <td>0.02</td>\n",
       "      <td>0.35</td>\n",
       "      <td>0.47</td>\n",
       "      <td>0.49</td>\n",
       "      <td>0.52</td>\n",
       "    </tr>\n",
       "    <tr>\n",
       "      <th>2019-11-25</th>\n",
       "      <td>0.53</td>\n",
       "      <td>1.45</td>\n",
       "      <td>1.00</td>\n",
       "      <td>0.24</td>\n",
       "      <td>0.46</td>\n",
       "      <td>1.31</td>\n",
       "      <td>-0.64</td>\n",
       "      <td>-0.20</td>\n",
       "      <td>0.78</td>\n",
       "      <td>1.38</td>\n",
       "      <td>0.99</td>\n",
       "      <td>1.02</td>\n",
       "    </tr>\n",
       "    <tr>\n",
       "      <th>2019-11-26</th>\n",
       "      <td>0.84</td>\n",
       "      <td>-0.14</td>\n",
       "      <td>0.25</td>\n",
       "      <td>-1.05</td>\n",
       "      <td>0.93</td>\n",
       "      <td>0.08</td>\n",
       "      <td>0.60</td>\n",
       "      <td>0.23</td>\n",
       "      <td>0.58</td>\n",
       "      <td>0.16</td>\n",
       "      <td>-0.13</td>\n",
       "      <td>0.34</td>\n",
       "    </tr>\n",
       "    <tr>\n",
       "      <th>2019-11-27</th>\n",
       "      <td>0.47</td>\n",
       "      <td>0.33</td>\n",
       "      <td>0.00</td>\n",
       "      <td>0.33</td>\n",
       "      <td>0.07</td>\n",
       "      <td>0.54</td>\n",
       "      <td>0.62</td>\n",
       "      <td>0.15</td>\n",
       "      <td>0.61</td>\n",
       "      <td>0.67</td>\n",
       "      <td>0.42</td>\n",
       "      <td>0.31</td>\n",
       "    </tr>\n",
       "    <tr>\n",
       "      <th>2019-11-29</th>\n",
       "      <td>-0.32</td>\n",
       "      <td>-0.69</td>\n",
       "      <td>-0.60</td>\n",
       "      <td>-1.15</td>\n",
       "      <td>-0.17</td>\n",
       "      <td>-0.43</td>\n",
       "      <td>-0.26</td>\n",
       "      <td>-0.25</td>\n",
       "      <td>-0.59</td>\n",
       "      <td>-0.27</td>\n",
       "      <td>-0.24</td>\n",
       "      <td>-0.48</td>\n",
       "    </tr>\n",
       "  </tbody>\n",
       "</table>\n",
       "</div>"
      ],
      "text/plain": [
       "            NoDur  Durbl  Manuf  Enrgy  Chems  BusEq  Telcm  Utils  Shops  \\\n",
       "Date                                                                        \n",
       "2019-11-22   0.02  -0.12   0.41  -0.40   0.07   0.03   0.46   0.02   0.35   \n",
       "2019-11-25   0.53   1.45   1.00   0.24   0.46   1.31  -0.64  -0.20   0.78   \n",
       "2019-11-26   0.84  -0.14   0.25  -1.05   0.93   0.08   0.60   0.23   0.58   \n",
       "2019-11-27   0.47   0.33   0.00   0.33   0.07   0.54   0.62   0.15   0.61   \n",
       "2019-11-29  -0.32  -0.69  -0.60  -1.15  -0.17  -0.43  -0.26  -0.25  -0.59   \n",
       "\n",
       "            Hlth   Money  Other  \n",
       "Date                             \n",
       "2019-11-22   0.47   0.49   0.52  \n",
       "2019-11-25   1.38   0.99   1.02  \n",
       "2019-11-26   0.16  -0.13   0.34  \n",
       "2019-11-27   0.67   0.42   0.31  \n",
       "2019-11-29  -0.27  -0.24  -0.48  "
      ]
     },
     "execution_count": 4,
     "metadata": {},
     "output_type": "execute_result"
    }
   ],
   "source": [
    "df = industry_portfolios[0] #for avg value weighted returns\n",
    "#df = industry_portfolios[1] #for avg equally weighted returns\n",
    "df.head()"
   ]
  },
  {
   "cell_type": "code",
   "execution_count": null,
   "metadata": {},
   "outputs": [],
   "source": []
  }
 ],
 "metadata": {
  "kernelspec": {
   "display_name": "base",
   "language": "python",
   "name": "python3"
  },
  "language_info": {
   "codemirror_mode": {
    "name": "ipython",
    "version": 3
   },
   "file_extension": ".py",
   "mimetype": "text/x-python",
   "name": "python",
   "nbconvert_exporter": "python",
   "pygments_lexer": "ipython3",
   "version": "3.11.5"
  }
 },
 "nbformat": 4,
 "nbformat_minor": 2
}
