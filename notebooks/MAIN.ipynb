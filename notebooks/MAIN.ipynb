{
 "cells": [
  {
   "cell_type": "markdown",
   "metadata": {},
   "source": [
    "## Does the inclusion of cryptocurrency-based indicies extend the MV frontier of a well diversified equity investor?"
   ]
  },
  {
   "cell_type": "code",
   "execution_count": 64,
   "metadata": {},
   "outputs": [],
   "source": [
    "import numpy as np\n",
    "import pandas as pd\n",
    "import scipy \n",
    "import scipy.optimize as opt\n",
    "import matplotlib.pyplot as plt\n",
    "import textwrap\n",
    "import seaborn as sns\n",
    "\n",
    "# Paramaters\n",
    "rf = 0.019 # Risk-free rate \n",
    "periods_per_year = 260 # Number of trading days per year"
   ]
  },
  {
   "cell_type": "markdown",
   "metadata": {},
   "source": [
    "To use own data --> requires one CSV with returns for benchmark. \n",
    "* One CSV with returns for additional returns that one would consider adding into the portfolio\n",
    "* First column in both of these files need to be the date column"
   ]
  },
  {
   "cell_type": "markdown",
   "metadata": {},
   "source": [
    "Importing benchmark & crypto portfolio created in data_grabbing.ipynb, creating the list of names of industry portfolios and names of cryptocurrency pairs to be put inside the optimizer"
   ]
  },
  {
   "cell_type": "code",
   "execution_count": 65,
   "metadata": {},
   "outputs": [
    {
     "name": "stdout",
     "output_type": "stream",
     "text": [
      "['NoDur', 'Durbl', 'Manuf', 'Enrgy', 'Chems', 'BusEq', 'Telcm', 'Utils', 'Shops', 'Hlth ', 'Money', 'Other']\n",
      "['NoDur', 'Durbl', 'Manuf', 'Enrgy', 'Chems', 'BusEq', 'Telcm', 'Utils', 'Shops', 'Hlth ', 'Money', 'Other', 'BTC-USD', 'ETH-USD', 'XRP-USD']\n"
     ]
    }
   ],
   "source": [
    "test_industry = pd.read_csv('../data/industry_returns.csv')\n",
    "test_crypto = pd.read_csv('../data/crypto_returns.csv')\n",
    "crypto = test_crypto.columns.values.tolist()[1:]\n",
    "\n",
    "# Defining lists used later:\n",
    "industry = test_industry.columns.values.tolist()[1:]\n",
    "industry_and_crypto = industry + crypto\n",
    "\n",
    "print(industry)\n",
    "print(industry_and_crypto)"
   ]
  },
  {
   "cell_type": "markdown",
   "metadata": {},
   "source": [
    "Double check on dates of available data (excluding the weekend price data characteristic of cryptocurrency pairs)"
   ]
  },
  {
   "cell_type": "code",
   "execution_count": 66,
   "metadata": {},
   "outputs": [
    {
     "name": "stdout",
     "output_type": "stream",
     "text": [
      "[]\n"
     ]
    }
   ],
   "source": [
    "# Convert the indices to sets\n",
    "dates_in_industry = set(test_industry.index)\n",
    "dates_in_crypto = set(test_crypto.index)\n",
    "\n",
    "# Find dates that are only in crypto_returns\n",
    "dates_only_in_crypto_returns = dates_in_crypto - dates_in_industry\n",
    "\n",
    "# Convert to a sorted list for easier viewing or further processing\n",
    "dates_only_in_crypto_returns = sorted(list(dates_only_in_crypto_returns))\n",
    "\n",
    "# Print or inspect the dates\n",
    "print(dates_only_in_crypto_returns)"
   ]
  },
  {
   "cell_type": "markdown",
   "metadata": {},
   "source": [
    "Creating the main dataframe consisting of all columns of ordinary returns from both .csv files joined based on the respective dates"
   ]
  },
  {
   "cell_type": "code",
   "execution_count": 67,
   "metadata": {},
   "outputs": [
    {
     "data": {
      "text/html": [
       "<div>\n",
       "<style scoped>\n",
       "    .dataframe tbody tr th:only-of-type {\n",
       "        vertical-align: middle;\n",
       "    }\n",
       "\n",
       "    .dataframe tbody tr th {\n",
       "        vertical-align: top;\n",
       "    }\n",
       "\n",
       "    .dataframe thead th {\n",
       "        text-align: right;\n",
       "    }\n",
       "</style>\n",
       "<table border=\"1\" class=\"dataframe\">\n",
       "  <thead>\n",
       "    <tr style=\"text-align: right;\">\n",
       "      <th></th>\n",
       "      <th>NoDur</th>\n",
       "      <th>Durbl</th>\n",
       "      <th>Manuf</th>\n",
       "      <th>Enrgy</th>\n",
       "      <th>Chems</th>\n",
       "      <th>BusEq</th>\n",
       "      <th>Telcm</th>\n",
       "      <th>Utils</th>\n",
       "      <th>Shops</th>\n",
       "      <th>Hlth</th>\n",
       "      <th>Money</th>\n",
       "      <th>Other</th>\n",
       "      <th>BTC-USD</th>\n",
       "      <th>ETH-USD</th>\n",
       "      <th>XRP-USD</th>\n",
       "    </tr>\n",
       "    <tr>\n",
       "      <th>Date</th>\n",
       "      <th></th>\n",
       "      <th></th>\n",
       "      <th></th>\n",
       "      <th></th>\n",
       "      <th></th>\n",
       "      <th></th>\n",
       "      <th></th>\n",
       "      <th></th>\n",
       "      <th></th>\n",
       "      <th></th>\n",
       "      <th></th>\n",
       "      <th></th>\n",
       "      <th></th>\n",
       "      <th></th>\n",
       "      <th></th>\n",
       "    </tr>\n",
       "  </thead>\n",
       "  <tbody>\n",
       "    <tr>\n",
       "      <th>2017-11-10</th>\n",
       "      <td>0.0109</td>\n",
       "      <td>0.0041</td>\n",
       "      <td>0.0025</td>\n",
       "      <td>-0.0041</td>\n",
       "      <td>-0.0010</td>\n",
       "      <td>0.0034</td>\n",
       "      <td>-0.0029</td>\n",
       "      <td>-0.0062</td>\n",
       "      <td>0.0054</td>\n",
       "      <td>0.0037</td>\n",
       "      <td>0.0001</td>\n",
       "      <td>0.0015</td>\n",
       "      <td>-0.073554</td>\n",
       "      <td>-0.067411</td>\n",
       "      <td>-0.050600</td>\n",
       "    </tr>\n",
       "    <tr>\n",
       "      <th>2017-11-13</th>\n",
       "      <td>0.0027</td>\n",
       "      <td>0.0053</td>\n",
       "      <td>-0.0036</td>\n",
       "      <td>-0.0082</td>\n",
       "      <td>0.0054</td>\n",
       "      <td>-0.0007</td>\n",
       "      <td>-0.0084</td>\n",
       "      <td>0.0047</td>\n",
       "      <td>-0.0028</td>\n",
       "      <td>-0.0044</td>\n",
       "      <td>0.0045</td>\n",
       "      <td>-0.0050</td>\n",
       "      <td>-0.008862</td>\n",
       "      <td>0.058355</td>\n",
       "      <td>-0.014728</td>\n",
       "    </tr>\n",
       "    <tr>\n",
       "      <th>2017-11-14</th>\n",
       "      <td>0.0053</td>\n",
       "      <td>-0.0027</td>\n",
       "      <td>-0.0056</td>\n",
       "      <td>-0.0335</td>\n",
       "      <td>-0.0072</td>\n",
       "      <td>-0.0007</td>\n",
       "      <td>-0.0078</td>\n",
       "      <td>0.0116</td>\n",
       "      <td>0.0016</td>\n",
       "      <td>-0.0123</td>\n",
       "      <td>0.0029</td>\n",
       "      <td>-0.0058</td>\n",
       "      <td>0.011626</td>\n",
       "      <td>0.066037</td>\n",
       "      <td>0.031375</td>\n",
       "    </tr>\n",
       "    <tr>\n",
       "      <th>2017-11-15</th>\n",
       "      <td>-0.0040</td>\n",
       "      <td>-0.0083</td>\n",
       "      <td>-0.0061</td>\n",
       "      <td>-0.0131</td>\n",
       "      <td>-0.0132</td>\n",
       "      <td>-0.0063</td>\n",
       "      <td>0.0018</td>\n",
       "      <td>-0.0097</td>\n",
       "      <td>-0.0012</td>\n",
       "      <td>0.0049</td>\n",
       "      <td>0.0006</td>\n",
       "      <td>-0.0053</td>\n",
       "      <td>0.102444</td>\n",
       "      <td>-0.012659</td>\n",
       "      <td>0.014922</td>\n",
       "    </tr>\n",
       "    <tr>\n",
       "      <th>2017-11-16</th>\n",
       "      <td>0.0199</td>\n",
       "      <td>0.0258</td>\n",
       "      <td>0.0167</td>\n",
       "      <td>0.0073</td>\n",
       "      <td>0.0142</td>\n",
       "      <td>0.0219</td>\n",
       "      <td>0.0183</td>\n",
       "      <td>0.0037</td>\n",
       "      <td>0.0214</td>\n",
       "      <td>0.0201</td>\n",
       "      <td>0.0132</td>\n",
       "      <td>0.0182</td>\n",
       "      <td>0.076023</td>\n",
       "      <td>-0.007298</td>\n",
       "      <td>0.066450</td>\n",
       "    </tr>\n",
       "    <tr>\n",
       "      <th>...</th>\n",
       "      <td>...</td>\n",
       "      <td>...</td>\n",
       "      <td>...</td>\n",
       "      <td>...</td>\n",
       "      <td>...</td>\n",
       "      <td>...</td>\n",
       "      <td>...</td>\n",
       "      <td>...</td>\n",
       "      <td>...</td>\n",
       "      <td>...</td>\n",
       "      <td>...</td>\n",
       "      <td>...</td>\n",
       "      <td>...</td>\n",
       "      <td>...</td>\n",
       "      <td>...</td>\n",
       "    </tr>\n",
       "    <tr>\n",
       "      <th>2023-10-24</th>\n",
       "      <td>0.0105</td>\n",
       "      <td>0.0083</td>\n",
       "      <td>0.0097</td>\n",
       "      <td>-0.0046</td>\n",
       "      <td>0.0060</td>\n",
       "      <td>0.0104</td>\n",
       "      <td>0.0074</td>\n",
       "      <td>0.0131</td>\n",
       "      <td>0.0029</td>\n",
       "      <td>0.0088</td>\n",
       "      <td>-0.0008</td>\n",
       "      <td>0.0017</td>\n",
       "      <td>0.024641</td>\n",
       "      <td>0.010794</td>\n",
       "      <td>0.021325</td>\n",
       "    </tr>\n",
       "    <tr>\n",
       "      <th>2023-10-25</th>\n",
       "      <td>-0.0047</td>\n",
       "      <td>-0.0218</td>\n",
       "      <td>-0.0122</td>\n",
       "      <td>-0.0023</td>\n",
       "      <td>-0.0153</td>\n",
       "      <td>-0.0258</td>\n",
       "      <td>-0.0161</td>\n",
       "      <td>0.0004</td>\n",
       "      <td>-0.0094</td>\n",
       "      <td>-0.0202</td>\n",
       "      <td>-0.0050</td>\n",
       "      <td>-0.0121</td>\n",
       "      <td>0.017736</td>\n",
       "      <td>0.001659</td>\n",
       "      <td>-0.005776</td>\n",
       "    </tr>\n",
       "    <tr>\n",
       "      <th>2023-10-26</th>\n",
       "      <td>-0.0026</td>\n",
       "      <td>-0.0038</td>\n",
       "      <td>0.0019</td>\n",
       "      <td>-0.0056</td>\n",
       "      <td>0.0095</td>\n",
       "      <td>-0.0063</td>\n",
       "      <td>0.0001</td>\n",
       "      <td>0.0078</td>\n",
       "      <td>-0.0023</td>\n",
       "      <td>-0.0058</td>\n",
       "      <td>0.0144</td>\n",
       "      <td>-0.0046</td>\n",
       "      <td>-0.010033</td>\n",
       "      <td>0.009311</td>\n",
       "      <td>-0.002923</td>\n",
       "    </tr>\n",
       "    <tr>\n",
       "      <th>2023-10-27</th>\n",
       "      <td>-0.0126</td>\n",
       "      <td>-0.0197</td>\n",
       "      <td>-0.0160</td>\n",
       "      <td>0.0013</td>\n",
       "      <td>-0.0154</td>\n",
       "      <td>-0.0097</td>\n",
       "      <td>-0.0249</td>\n",
       "      <td>-0.0189</td>\n",
       "      <td>-0.0084</td>\n",
       "      <td>-0.0180</td>\n",
       "      <td>-0.0113</td>\n",
       "      <td>-0.0089</td>\n",
       "      <td>-0.007227</td>\n",
       "      <td>-0.013300</td>\n",
       "      <td>-0.013683</td>\n",
       "    </tr>\n",
       "    <tr>\n",
       "      <th>2023-10-30</th>\n",
       "      <td>0.0090</td>\n",
       "      <td>0.0029</td>\n",
       "      <td>0.0065</td>\n",
       "      <td>-0.0040</td>\n",
       "      <td>0.0159</td>\n",
       "      <td>0.0005</td>\n",
       "      <td>0.0206</td>\n",
       "      <td>0.0053</td>\n",
       "      <td>0.0080</td>\n",
       "      <td>0.0130</td>\n",
       "      <td>0.0119</td>\n",
       "      <td>0.0130</td>\n",
       "      <td>0.017475</td>\n",
       "      <td>0.016878</td>\n",
       "      <td>0.060129</td>\n",
       "    </tr>\n",
       "  </tbody>\n",
       "</table>\n",
       "<p>1501 rows × 15 columns</p>\n",
       "</div>"
      ],
      "text/plain": [
       "             NoDur   Durbl   Manuf   Enrgy   Chems   BusEq   Telcm   Utils  \\\n",
       "Date                                                                         \n",
       "2017-11-10  0.0109  0.0041  0.0025 -0.0041 -0.0010  0.0034 -0.0029 -0.0062   \n",
       "2017-11-13  0.0027  0.0053 -0.0036 -0.0082  0.0054 -0.0007 -0.0084  0.0047   \n",
       "2017-11-14  0.0053 -0.0027 -0.0056 -0.0335 -0.0072 -0.0007 -0.0078  0.0116   \n",
       "2017-11-15 -0.0040 -0.0083 -0.0061 -0.0131 -0.0132 -0.0063  0.0018 -0.0097   \n",
       "2017-11-16  0.0199  0.0258  0.0167  0.0073  0.0142  0.0219  0.0183  0.0037   \n",
       "...            ...     ...     ...     ...     ...     ...     ...     ...   \n",
       "2023-10-24  0.0105  0.0083  0.0097 -0.0046  0.0060  0.0104  0.0074  0.0131   \n",
       "2023-10-25 -0.0047 -0.0218 -0.0122 -0.0023 -0.0153 -0.0258 -0.0161  0.0004   \n",
       "2023-10-26 -0.0026 -0.0038  0.0019 -0.0056  0.0095 -0.0063  0.0001  0.0078   \n",
       "2023-10-27 -0.0126 -0.0197 -0.0160  0.0013 -0.0154 -0.0097 -0.0249 -0.0189   \n",
       "2023-10-30  0.0090  0.0029  0.0065 -0.0040  0.0159  0.0005  0.0206  0.0053   \n",
       "\n",
       "             Shops   Hlth    Money   Other   BTC-USD   ETH-USD   XRP-USD  \n",
       "Date                                                                      \n",
       "2017-11-10  0.0054  0.0037  0.0001  0.0015 -0.073554 -0.067411 -0.050600  \n",
       "2017-11-13 -0.0028 -0.0044  0.0045 -0.0050 -0.008862  0.058355 -0.014728  \n",
       "2017-11-14  0.0016 -0.0123  0.0029 -0.0058  0.011626  0.066037  0.031375  \n",
       "2017-11-15 -0.0012  0.0049  0.0006 -0.0053  0.102444 -0.012659  0.014922  \n",
       "2017-11-16  0.0214  0.0201  0.0132  0.0182  0.076023 -0.007298  0.066450  \n",
       "...            ...     ...     ...     ...       ...       ...       ...  \n",
       "2023-10-24  0.0029  0.0088 -0.0008  0.0017  0.024641  0.010794  0.021325  \n",
       "2023-10-25 -0.0094 -0.0202 -0.0050 -0.0121  0.017736  0.001659 -0.005776  \n",
       "2023-10-26 -0.0023 -0.0058  0.0144 -0.0046 -0.010033  0.009311 -0.002923  \n",
       "2023-10-27 -0.0084 -0.0180 -0.0113 -0.0089 -0.007227 -0.013300 -0.013683  \n",
       "2023-10-30  0.0080  0.0130  0.0119  0.0130  0.017475  0.016878  0.060129  \n",
       "\n",
       "[1501 rows x 15 columns]"
      ]
     },
     "execution_count": 67,
     "metadata": {},
     "output_type": "execute_result"
    }
   ],
   "source": [
    "ind_crypto = pd.merge(test_industry, test_crypto, on='Date') # this is an inner join --> only includes values that has dates in both df:s\n",
    "ind_crypto = ind_crypto.set_index('Date')\n",
    "ind_crypto"
   ]
  },
  {
   "cell_type": "markdown",
   "metadata": {},
   "source": [
    "### Defining functions needed to compute the efficient frontier:"
   ]
  },
  {
   "cell_type": "markdown",
   "id": "c9317cd7",
   "metadata": {},
   "source": [
    "\n",
    "The `annualize_rets` function is designed to annualize a set of return series by calculating the compounded growth of returns and then converting it to an annualized rate, adjusting for the number of return periods in a year. It takes two parameters:\n",
    "\n",
    "- `r`: The input returns as a pandas Series or DataFrame.\n",
    "- `periods_per_year`: The number of return periods in a year (e.g., 252 for daily returns, 12 for monthly returns).\n",
    "\n",
    "$ \\text{Annualized Return} = \\left( \\prod_{i=1}^{n} (1 + r_i) \\right)^{\\frac{\\text{periods\\_per\\_year}}{n}} - 1 $\n"
   ]
  },
  {
   "cell_type": "code",
   "execution_count": 68,
   "id": "36b9b99b",
   "metadata": {},
   "outputs": [],
   "source": [
    "def annualize_rets(r, periods_per_year):\n",
    "    compounded_growth = (1+r).prod()\n",
    "    n_periods = r.shape[0]\n",
    "    return compounded_growth**(periods_per_year/n_periods)-1"
   ]
  },
  {
   "cell_type": "markdown",
   "id": "31fdce91",
   "metadata": {},
   "source": [
    "The `annualize_vol` function is annualizes the volatility of a set of returns, it takes the two paramaters described above.\n",
    "\n",
    "$ \\text{Annualized Volatility} = \\text{Standard Deviation of Returns} \\times \\sqrt{\\text{Number of Periods per Year}} $"
   ]
  },
  {
   "cell_type": "code",
   "execution_count": 69,
   "id": "b9261283",
   "metadata": {},
   "outputs": [],
   "source": [
    "def annualize_vol(r, periods_per_year):\n",
    "    return r.std()*(periods_per_year**0.5)"
   ]
  },
  {
   "cell_type": "markdown",
   "id": "68edd54f",
   "metadata": {},
   "source": [
    "The `sharpe_ratio` function computes the annualized sharpe ratio representing the risk-adjusted performance of each of the included portfolios. Additionally it takes the above-defined annual risk-free rate as a paramater and converts it to correspond to each trading day. \n",
    "\n",
    "   $ \\text{rf\\_per\\_period} = (1 + \\text{riskfree\\_rate})^{(1/\\text{periods\\_per\\_year})} - 1 $\n",
    "\n",
    "   $ \\text{Sharpe Ratio} = \\frac{\\text{ann\\_ex\\_ret}}{\\text{ann\\_vol}} $"
   ]
  },
  {
   "cell_type": "code",
   "execution_count": 70,
   "id": "5ce423db",
   "metadata": {},
   "outputs": [],
   "source": [
    "def sharpe_ratio(r, riskfree_rate, periods_per_year):\n",
    "    # convert the annual riskfree rate to per period\n",
    "    rf_per_period = (1+riskfree_rate)**(1/periods_per_year)-1\n",
    "    excess_ret = r - rf_per_period\n",
    "    ann_ex_ret = annualize_rets(excess_ret, periods_per_year)\n",
    "    ann_vol = annualize_vol(r, periods_per_year)\n",
    "    return ann_ex_ret/ann_vol"
   ]
  },
  {
   "cell_type": "markdown",
   "id": "1f8f4c38",
   "metadata": {},
   "source": [
    "The `minimize_vol` function takes as inputs the set of expected returns and a corresponding covariance matrix and returns a set of optimized portfolio weights that achieve the target return, by using the `opt.minimize` function which takes as the objective function the `portfolio_vol`. The optimization method chosen is the Sequential Least SQuares Programming (SLSQP) which iteratively solves a bunch of quadratic subproblems until it converges to a solution that satisfies the imposed conditions. The general optimization problem looks like this:\n",
    "\n",
    "$ \\text{Minimize:} \\quad f(x)\\ $\n",
    "\n",
    "$ \\\n",
    "\\text{Subject to:} \\quad g_i(x) = 0 \\quad \\text{for equality constraints}\n",
    "\\ $\n",
    "\n",
    "$ \\\n",
    "\\quad \\quad \\quad g_i(x) \\geq 0 \\quad \\text{for inequality constraints}\n",
    "\\ $\n",
    "\n",
    "The math for the resulting subproblems in each iteration is likely beyond the scope of this assignment"
   ]
  },
  {
   "cell_type": "code",
   "execution_count": 71,
   "id": "e3530d1f",
   "metadata": {},
   "outputs": [],
   "source": [
    "def minimize_vol(target_return, er, cov):\n",
    "    n = er.shape[0]\n",
    "    init_guess = np.repeat(1/n, n)\n",
    "    bounds = ((0.0, 1.0),) * n # an N-tuple of 2-tuples!\n",
    "    # construct the constraints\n",
    "    weights_sum_to_1 = {'type': 'eq',\n",
    "                        'fun': lambda weights: np.sum(weights) - 1\n",
    "    }\n",
    "    return_is_target = {'type': 'eq',\n",
    "                        'args': (er,),\n",
    "                        'fun': lambda weights, er: target_return - portfolio_return(weights,er)\n",
    "    }\n",
    "    weights = opt.minimize(portfolio_vol, init_guess,\n",
    "                       args=(cov,), method='SLSQP',\n",
    "                       options={'disp': False},\n",
    "                       constraints=(weights_sum_to_1,return_is_target),\n",
    "                       bounds=bounds)\n",
    "    return weights.x"
   ]
  },
  {
   "cell_type": "markdown",
   "id": "aabede6f",
   "metadata": {},
   "source": [
    "The following function:\n",
    "* generates a set of target returns evenly spaced between the minimum and maximum expected retzrns in the inputed series of expected returns using `np.linspace`,\n",
    "* for each target return in the above set it calls the `minimize_vol` to find the optimal weights for a portfolio that achieves corresponding target return"
   ]
  },
  {
   "cell_type": "code",
   "execution_count": 72,
   "id": "29512451",
   "metadata": {},
   "outputs": [],
   "source": [
    "def optimal_weights(n_points, er, cov):\n",
    "    target_rs = np.linspace(er.min(), er.max(), n_points)\n",
    "    weights = [minimize_vol(target_return, er, cov) for target_return in target_rs]\n",
    "    return weights"
   ]
  },
  {
   "cell_type": "markdown",
   "id": "5959aaf7",
   "metadata": {},
   "source": [
    "The portfolio volatility is calculated using the following linear algebra expression:\n",
    "\n",
    "$ \\text{Portfolio Volatility} = \\sqrt{ \\mathbf{w}^T \\cdot \\Sigma \\cdot \\mathbf{w} } $\n",
    "\n",
    "Where:\n",
    "- $ \\mathbf{w} \\ $ is the column vector of weights computed in the function above.\n",
    "- $ \\Sigma $ is the covariance matrix of returns."
   ]
  },
  {
   "cell_type": "code",
   "execution_count": 73,
   "id": "5b1935e0",
   "metadata": {},
   "outputs": [],
   "source": [
    "def portfolio_vol(weights, covmat):\n",
    "    return (weights.T @ covmat @ weights)**0.5"
   ]
  },
  {
   "cell_type": "markdown",
   "id": "d9db372c",
   "metadata": {},
   "source": [
    "The function below computes the return on a portfolio from inputted weights and returns, both in the form of a numpy array\n",
    "\n",
    "$ \\text{Portfolio Return} = \\mathbf{w}^T \\cdot \\mathbf{r} $"
   ]
  },
  {
   "cell_type": "code",
   "execution_count": 78,
   "id": "8f38185f",
   "metadata": {},
   "outputs": [],
   "source": [
    "def portfolio_return(weights, returns):\n",
    "    return weights.T @ returns"
   ]
  },
  {
   "cell_type": "markdown",
   "metadata": {},
   "source": [
    "Computing the sharpe ratios of all chosen instruments (which are merged inside of the ind_crypto dataframe)"
   ]
  },
  {
   "cell_type": "code",
   "execution_count": 81,
   "metadata": {},
   "outputs": [
    {
     "data": {
      "text/plain": [
       "Telcm     -0.123636\n",
       "Hlth      -0.080986\n",
       "Durbl      0.055215\n",
       "NoDur      0.071290\n",
       "XRP-USD    0.128222\n",
       "Enrgy      0.156569\n",
       "Money      0.200819\n",
       "Utils      0.209990\n",
       "Chems      0.217073\n",
       "Other      0.253895\n",
       "Manuf      0.257106\n",
       "BusEq      0.318836\n",
       "Shops      0.324716\n",
       "ETH-USD    0.344795\n",
       "BTC-USD    0.395972\n",
       "dtype: float64"
      ]
     },
     "execution_count": 81,
     "metadata": {},
     "output_type": "execute_result"
    }
   ],
   "source": [
    "# Load the processed data for analysis, choose the RF rate\n",
    "industry_SR = sharpe_ratio(ind_crypto, rf, periods_per_year).sort_values()\n",
    "industry_SR"
   ]
  },
  {
   "cell_type": "code",
   "execution_count": 103,
   "id": "9e310319",
   "metadata": {},
   "outputs": [
    {
     "data": {
      "image/png": "[encoded data removed]",
      "text/plain": [
       "<Figure size 720x360 with 1 Axes>"
      ]
     },
     "metadata": {
      "needs_background": "light"
     },
     "output_type": "display_data"
    },
    {
     "data": {
      "text/plain": [
       "<Figure size 432x288 with 0 Axes>"
      ]
     },
     "metadata": {},
     "output_type": "display_data"
    }
   ],
   "source": [
    "import seaborn as sns\n",
    "import matplotlib.pyplot as plt\n",
    "\n",
    "data = {'Sharpe Ratio': industry_SR}\n",
    "df = pd.DataFrame(data)\n",
    "\n",
    "# Plotting the temperature plot using seaborn\n",
    "plt.figure(figsize=(10, 5))  # Adjust the size here\n",
    "sns.barplot(x=df.index, y='Sharpe Ratio', data=df, color='b')\n",
    "plt.title('Sharpe Ratios of Different Instruments Across Entire Sample)', fontsize=15)\n",
    "plt.xlabel('Instrument', fontsize=11)\n",
    "plt.ylabel('Sharpe Ratio', fontsize=11)\n",
    "plt.xticks(fontsize=11)\n",
    "plt.yticks(fontsize=11)\n",
    "plt.grid(axis='y', linestyle='--', alpha=0.7)\n",
    "plt.show()\n",
    "plt.savefig(\"../reports/figures/SR_Entire_Sample).png\")"
   ]
  },
  {
   "cell_type": "markdown",
   "metadata": {},
   "source": [
    "Paramaters and plot limits for 3 different market timeframes to facilitate reproducibility. The desired dates corresponding to different timeframes are to be inputed inside of the first cell in src\\data\\data_grabbing.ipynb.\n",
    "\n",
    "- Equity bull market\n",
    "    - Period: 2017-10-31 <--> 2021-12-1\n",
    "    - 3-y T-bill rate = 1.9 %\n",
    "    - *ax.set_xlim(left=0.0125, right=0.0155)*\n",
    "    - *ax.set_ylim(bottom=0.155, top=0.3)*\n",
    "- High vol equity market with large drawdowns\n",
    "    - Period: 2021-12-1 <--> 2023-10-31\n",
    "    - 3-y T-bill rate = 0.95 %\n",
    "    - *ax.set_xlim(left=0.0075, right=0.025)* \n",
    "    - *ax.set_ylim(bottom=0.0, top=0.35)*\n",
    "- Large sample encapsulating different equity market regimes \n",
    "    - Period: 2017-10-31 <--> 2023-10-31\n",
    "    - 5-y T-bill rate = 2.15 %\n",
    "    - *ax.set_xlim(left=0.0114, right=0.015)*\n",
    "    - *ax.set_ylim(bottom=0.04, top=0.12)*\n",
    "\n",
    "For better interpretability, we advise the reader to adjust the axis limits of plotted graphs in each of the three periods when plotting the frontiers & exporting the .png files which is to be done by inputing the code * inside the plot_ef function below."
   ]
  },
  {
   "cell_type": "markdown",
   "metadata": {},
   "source": [
    "Computing efficient froniters"
   ]
  },
  {
   "cell_type": "code",
   "execution_count": 95,
   "metadata": {},
   "outputs": [],
   "source": [
    "def plot_ef(n_points, er, cov, er2, cov2):\n",
    "    \"\"\"\n",
    "    Plots two multi-asset efficient frontiers on the same graph\n",
    "    \"\"\"\n",
    "    # First efficient frontier\n",
    "    weights = optimal_weights(n_points, er, cov)  # Assuming optimal_weights is implemented\n",
    "    rets = [portfolio_return(w, er) for w in weights]\n",
    "    vols = [portfolio_vol(w, cov) for w in weights]\n",
    "    ef1 = pd.DataFrame({\n",
    "        \"Returns\": rets,\n",
    "        \"Volatility\": vols\n",
    "    })\n",
    "\n",
    "    # Second efficient frontier\n",
    "    weights2 = optimal_weights(n_points, er2, cov2)  # Assuming optimal_weights is implemented\n",
    "    rets2 = [portfolio_return(w, er2) for w in weights2]\n",
    "    vols2 = [portfolio_vol(w, cov2) for w in weights2]\n",
    "    ef2 = pd.DataFrame({\n",
    "        \"Returns\": rets2,\n",
    "        \"Volatility\": vols2\n",
    "    })\n",
    "\n",
    "    # Plotting both efficient frontiers on the same graph\n",
    "    ax = ef1.plot.line(x=\"Volatility\", y=\"Returns\", style='.-', label='Industry portfolio without cryptocurrencies', color='b', marker='o', markersize=4)\n",
    "    ef2.plot.line(x=\"Volatility\", y=\"Returns\", style='.-', ax=ax, label='Industry portfolio with cryptocurrencies', color='r', marker='s', markersize=4)\n",
    "    \n",
    "    ax.set_xlim(left=0.0114, right=0.015) #Adjust according to the desired timeframe\n",
    "    ax.set_ylim(bottom=0.04, top=0.12) #Adjust according to the desired timeframe\n",
    "\n",
    "    # Customize the plot as needed\n",
    "    title_text = \"Efficient Frontier Comparison\\nDuring the Entire Available Sample\\n(Timeframe: 2017-10-31 - 2023-10-31)\"\n",
    "    plt.title(\"\\n\".join(textwrap.wrap(title_text, width=30)), fontsize=15) \n",
    "    plt.xlabel(\"Volatility\", fontsize=12)\n",
    "    plt.ylabel(\"Returns\", fontsize=11)\n",
    "    plt.legend(fontsize=12)\n",
    "    plt.grid(True)\n",
    "    \n",
    "    plt.savefig(\"../reports/figures/TEST-Efficient_Frontier_Comparison_Full_Sample).png\")\n",
    "    plt.show()\n",
    "    "
   ]
  },
  {
   "cell_type": "markdown",
   "id": "7cd6fbb4",
   "metadata": {},
   "source": [
    "Plotting the mean-variance frontiers"
   ]
  },
  {
   "cell_type": "code",
   "execution_count": 96,
   "metadata": {},
   "outputs": [
    {
     "data": {
      "image/png": "[encoded data removed]",
      "text/plain": [
       "<Figure size 432x288 with 1 Axes>"
      ]
     },
     "metadata": {
      "needs_background": "light"
     },
     "output_type": "display_data"
    }
   ],
   "source": [
    "er = annualize_rets(ind_crypto, periods_per_year)\n",
    "cov = ind_crypto.cov()\n",
    "industry_crypto_combined_plots = plot_ef(201, er[industry], cov.loc[industry, industry], er[industry_and_crypto], cov.loc[industry_and_crypto, industry_and_crypto]) "
   ]
  },
  {
   "cell_type": "markdown",
   "metadata": {},
   "source": [
    "# trying some stuff for widgets"
   ]
  },
  {
   "cell_type": "code",
   "execution_count": 275,
   "metadata": {},
   "outputs": [],
   "source": [
    "er = annualize_rets(ind_crypto, periods_per_year)\n",
    "cov = ind_crypto.cov()"
   ]
  },
  {
   "cell_type": "code",
   "execution_count": 95,
   "metadata": {},
   "outputs": [
    {
     "data": {
      "image/png": "[encoded data removed]",
      "text/plain": [
       "<Figure size 432x288 with 1 Axes>"
      ]
     },
     "metadata": {
      "needs_background": "light"
     },
     "output_type": "display_data"
    }
   ],
   "source": [
    "er1 = er[industry]\n",
    "cov1 = cov.loc[industry, industry]\n",
    "er2 = er[industry_and_crypto]\n",
    "cov2 = cov.loc[industry_and_crypto, industry_and_crypto]\n",
    "n_points = 200\n",
    "\n",
    "# First efficient frontier\n",
    "weights1 = optimal_weights(n_points, er1, cov1)  # Assuming optimal_weights is implemented\n",
    "rets1 = [portfolio_return(w, er1) for w in weights]\n",
    "vols1 = [portfolio_vol(w, cov1) for w in weights]\n",
    "ef1 = pd.DataFrame({\n",
    "        \"Returns\": rets1,\n",
    "        \"Volatility\": vols1\n",
    "    })\n",
    "\n",
    "# Second efficient frontier\n",
    "weights2 = optimal_weights(n_points, er2, cov2)  # Assuming optimal_weights is implemented\n",
    "rets2 = [portfolio_return(w, er2) for w in weights2]\n",
    "vols2 = [portfolio_vol(w, cov2) for w in weights2]\n",
    "ef2 = pd.DataFrame({\n",
    "    \"Returns\": rets2,\n",
    "    \"Volatility\": vols2\n",
    "})\n",
    "\n",
    "# Plotting both efficient frontiers on the same graph\n",
    "ax = ef1.plot.line(x=\"Volatility\", y=\"Returns\", style='.-', label='Industry portfolio without cryptocurrencies')\n",
    "ef2.plot.line(x=\"Volatility\", y=\"Returns\", style='.-', ax=ax, label='Industry portfolio with cryptocurrencies')\n",
    "    \n",
    "ax.set_xlim(left=0.0114, right=0.016)\n",
    "ax.set_ylim(bottom=0.0, top=0.12)\n",
    "\n",
    "# Customize the plot as needed\n",
    "plt.title(\"Efficient Frontier Comparison\")\n",
    "plt.xlabel(\"Volatility\")\n",
    "plt.ylabel(\"Returns\")\n",
    "plt.legend()\n",
    "plt.grid(True)\n",
    "    \n",
    "plt.savefig(\"../reports/figures/figure1.png\")\n",
    "plt.show()"
   ]
  },
  {
   "cell_type": "code",
   "execution_count": 92,
   "metadata": {},
   "outputs": [
    {
     "data": {
      "text/html": [
       "<div>\n",
       "<style scoped>\n",
       "    .dataframe tbody tr th:only-of-type {\n",
       "        vertical-align: middle;\n",
       "    }\n",
       "\n",
       "    .dataframe tbody tr th {\n",
       "        vertical-align: top;\n",
       "    }\n",
       "\n",
       "    .dataframe thead th {\n",
       "        text-align: right;\n",
       "    }\n",
       "</style>\n",
       "<table border=\"1\" class=\"dataframe\">\n",
       "  <thead>\n",
       "    <tr style=\"text-align: right;\">\n",
       "      <th></th>\n",
       "      <th>Returns</th>\n",
       "      <th>Volatility</th>\n",
       "    </tr>\n",
       "  </thead>\n",
       "  <tbody>\n",
       "    <tr>\n",
       "      <th>0</th>\n",
       "      <td>-0.004197</td>\n",
       "      <td>0.016447</td>\n",
       "    </tr>\n",
       "    <tr>\n",
       "      <th>1</th>\n",
       "      <td>-0.002488</td>\n",
       "      <td>0.016156</td>\n",
       "    </tr>\n",
       "    <tr>\n",
       "      <th>2</th>\n",
       "      <td>-0.000779</td>\n",
       "      <td>0.015984</td>\n",
       "    </tr>\n",
       "    <tr>\n",
       "      <th>3</th>\n",
       "      <td>0.000929</td>\n",
       "      <td>0.015788</td>\n",
       "    </tr>\n",
       "    <tr>\n",
       "      <th>4</th>\n",
       "      <td>0.002638</td>\n",
       "      <td>0.015615</td>\n",
       "    </tr>\n",
       "    <tr>\n",
       "      <th>...</th>\n",
       "      <td>...</td>\n",
       "      <td>...</td>\n",
       "    </tr>\n",
       "    <tr>\n",
       "      <th>195</th>\n",
       "      <td>0.329005</td>\n",
       "      <td>0.056454</td>\n",
       "    </tr>\n",
       "    <tr>\n",
       "      <th>196</th>\n",
       "      <td>0.330714</td>\n",
       "      <td>0.056989</td>\n",
       "    </tr>\n",
       "    <tr>\n",
       "      <th>197</th>\n",
       "      <td>0.332423</td>\n",
       "      <td>0.057532</td>\n",
       "    </tr>\n",
       "    <tr>\n",
       "      <th>198</th>\n",
       "      <td>0.334131</td>\n",
       "      <td>0.058084</td>\n",
       "    </tr>\n",
       "    <tr>\n",
       "      <th>199</th>\n",
       "      <td>0.335840</td>\n",
       "      <td>0.058645</td>\n",
       "    </tr>\n",
       "  </tbody>\n",
       "</table>\n",
       "<p>200 rows × 2 columns</p>\n",
       "</div>"
      ],
      "text/plain": [
       "      Returns  Volatility\n",
       "0   -0.004197    0.016447\n",
       "1   -0.002488    0.016156\n",
       "2   -0.000779    0.015984\n",
       "3    0.000929    0.015788\n",
       "4    0.002638    0.015615\n",
       "..        ...         ...\n",
       "195  0.329005    0.056454\n",
       "196  0.330714    0.056989\n",
       "197  0.332423    0.057532\n",
       "198  0.334131    0.058084\n",
       "199  0.335840    0.058645\n",
       "\n",
       "[200 rows x 2 columns]"
      ]
     },
     "execution_count": 92,
     "metadata": {},
     "output_type": "execute_result"
    }
   ],
   "source": [
    "ef2"
   ]
  },
  {
   "cell_type": "code",
   "execution_count": 56,
   "metadata": {},
   "outputs": [
    {
     "data": {
      "application/vnd.jupyter.widget-view+json": {
       "model_id": "ecfa778c76b6400b820e95868483f789",
       "version_major": 2,
       "version_minor": 0
      },
      "text/plain": [
       "interactive(children=(DatePicker(value=Timestamp('2023-01-01 00:00:00'), description='Start Date'), DatePicker…"
      ]
     },
     "metadata": {},
     "output_type": "display_data"
    },
    {
     "data": {
      "text/plain": [
       "<function __main__.plot_scatter(start_date, end_date)>"
      ]
     },
     "execution_count": 56,
     "metadata": {},
     "output_type": "execute_result"
    }
   ],
   "source": [
    "import pandas as pd\n",
    "import matplotlib.pyplot as plt\n",
    "from ipywidgets import interact, widgets\n",
    "\n",
    "# Example DataFrame with returns\n",
    "# Replace this with your actual DataFrame\n",
    "data = {\n",
    "    'Date': ['2023-01-01', '2023-01-02', '2023-01-03', '2023-01-04', '2023-01-05'],\n",
    "    'Portfolio1': [0.02, 0.01, -0.015, 0.03, -0.01],\n",
    "    'Portfolio2': [0.015, 0.02, -0.01, 0.025, -0.02],\n",
    "    'Portfolio3': [-0.01, 0.03, -0.02, 0.015, 0.01]\n",
    "}\n",
    "\n",
    "df = pd.DataFrame(data)\n",
    "df['Date'] = pd.to_datetime(df['Date'])\n",
    "df.set_index('Date', inplace=True)\n",
    "\n",
    "# Function to plot scatter plot\n",
    "def plot_scatter(start_date, end_date):\n",
    "    selected_data = df.loc[start_date:end_date]\n",
    "    \n",
    "    plt.figure(figsize=(10, 6))\n",
    "    for column in selected_data.columns:\n",
    "        plt.scatter(selected_data.index, selected_data[column], label=column)\n",
    "\n",
    "    plt.title('Portfolio Returns Over Time')\n",
    "    plt.xlabel('Date')\n",
    "    plt.ylabel('Returns')\n",
    "    plt.legend()\n",
    "    plt.show()\n",
    "\n",
    "# Create widgets for date selection\n",
    "start_date_widget = widgets.DatePicker(description='Start Date', value=df.index.min())\n",
    "end_date_widget = widgets.DatePicker(description='End Date', value=df.index.max())\n",
    "\n",
    "# Create interactive plot\n",
    "interact(plot_scatter, start_date=start_date_widget, end_date=end_date_widget)\n"
   ]
  },
  {
   "cell_type": "code",
   "execution_count": null,
   "metadata": {},
   "outputs": [],
   "source": []
  }
 ],
 "metadata": {
  "kernelspec": {
   "display_name": "Python 3",
   "language": "python",
   "name": "python3"
  },
  "language_info": {
   "codemirror_mode": {
    "name": "ipython",
    "version": 3
   },
   "file_extension": ".py",
   "mimetype": "text/x-python",
   "name": "python",
   "nbconvert_exporter": "python",
   "pygments_lexer": "ipython3",
   "version": "3.8.8"
  }
 },
 "nbformat": 4,
 "nbformat_minor": 5
}
