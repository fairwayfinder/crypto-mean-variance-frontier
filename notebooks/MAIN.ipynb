{
 "cells": [
  {
   "cell_type": "code",
   "execution_count": 157,
   "id": "bfd71914",
   "metadata": {},
   "outputs": [
    {
     "name": "stdout",
     "output_type": "stream",
     "text": [
      "The autoreload extension is already loaded. To reload it, use:\n",
      "  %reload_ext autoreload\n"
     ]
    },
    {
     "data": {
      "text/plain": [
       "(Index(['NoDur', 'Durbl', 'Manuf', 'Enrgy', 'Chems', 'BusEq', 'Telcm', 'Utils',\n",
       "        'Shops', 'Hlth', 'Money', 'Other', 'GDLC'],\n",
       "       dtype='object'),\n",
       " (925, 13),\n",
       "              NoDur   Durbl   Manuf   Enrgy   Chems   BusEq   Telcm   Utils  \\\n",
       " 2019-11-25  0.0119  0.0212  0.0193  0.0169  0.0191  0.0175  0.0063  0.0027   \n",
       " 2019-11-26  0.0029 -0.0020 -0.0002 -0.0229  0.0001 -0.0003 -0.0038  0.0002   \n",
       " 2019-11-27  0.0046  0.0013  0.0014  0.0066  0.0022  0.0062  0.0089  0.0033   \n",
       " 2019-11-29 -0.0002  0.0017 -0.0055 -0.0108 -0.0028 -0.0016  0.0034 -0.0044   \n",
       " 2019-12-02 -0.0038 -0.0052 -0.0098 -0.0102 -0.0084 -0.0151 -0.0119 -0.0072   \n",
       " ...            ...     ...     ...     ...     ...     ...     ...     ...   \n",
       " 2023-07-25 -0.0028 -0.0134 -0.0016  0.0021  0.0095  0.0031 -0.0145  0.0025   \n",
       " 2023-07-26  0.0066  0.0092  0.0073 -0.0033  0.0031  0.0062  0.0059  0.0028   \n",
       " 2023-07-27 -0.0114 -0.0249 -0.0085 -0.0119 -0.0115 -0.0153 -0.0098 -0.0181   \n",
       " 2023-07-28  0.0067  0.0121  0.0154  0.0160  0.0108  0.0175  0.0217  0.0027   \n",
       " 2023-07-31  0.0098  0.0149  0.0125  0.0189  0.0069  0.0170  0.0157  0.0013   \n",
       " \n",
       "              Shops    Hlth   Money   Other      GDLC  \n",
       " 2019-11-25  0.0175  0.0188  0.0129  0.0169 -0.166667  \n",
       " 2019-11-26  0.0024  0.0035 -0.0026  0.0009  0.070000  \n",
       " 2019-11-27  0.0047  0.0168  0.0039  0.0041  0.308411  \n",
       " 2019-11-29 -0.0032  0.0138 -0.0018 -0.0023  0.242857  \n",
       " 2019-12-02 -0.0092 -0.0003 -0.0069 -0.0102 -0.267241  \n",
       " ...            ...     ...     ...     ...       ...  \n",
       " 2023-07-25  0.0003 -0.0185 -0.0030 -0.0034  0.007778  \n",
       " 2023-07-26  0.0099  0.0068  0.0206  0.0037  0.002205  \n",
       " 2023-07-27 -0.0128 -0.0187 -0.0104 -0.0126 -0.020902  \n",
       " 2023-07-28  0.0101  0.0226  0.0077  0.0131  0.000000  \n",
       " 2023-07-31  0.0112  0.0103  0.0007  0.0107  0.050562  \n",
       " \n",
       " [925 rows x 13 columns])"
      ]
     },
     "execution_count": 157,
     "metadata": {},
     "output_type": "execute_result"
    }
   ],
   "source": [
    "import pandas as pd\n",
    "import numpy as np\n",
    "import scipy\n",
    "import numpy as np\n",
    "import scipy.optimize as opt\n",
    "import matplotlib.pyplot as plt\n",
    "%load_ext autoreload\n",
    "%autoreload 2\n",
    "%matplotlib inline\n",
    "\n",
    "\n",
    "ind = pd.read_csv(\"data\\Industry&Crypto.csv\", header=0, index_col=0)/100\n",
    "ind.index = pd.to_datetime(ind.index, format=\"%Y%m%d\").to_period('D')\n",
    "ind.columns = ind.columns.str.strip()\n",
    "ind.columns, ind.shape, ind"
   ]
  },
  {
   "cell_type": "code",
   "execution_count": 158,
   "id": "a0f7f1b4",
   "metadata": {},
   "outputs": [],
   "source": [
    "#we should probably move these 3 functions to a separate .py file so we can call upon them when necessary\n",
    "\n",
    "def annualize_rets(r, periods_per_year):\n",
    "    \"\"\"\n",
    "    Annualizes a set of returns\n",
    "    We should infer the periods per year\n",
    "    but that is currently left as an exercise\n",
    "    to the reader :-)\n",
    "    \"\"\"\n",
    "    compounded_growth = (1+r).prod()\n",
    "    n_periods = r.shape[0]\n",
    "    return compounded_growth**(periods_per_year/n_periods)-1\n",
    "\n",
    "def annualize_vol(r, periods_per_year):\n",
    "    \"\"\"\n",
    "    Annualizes the vol of a set of returns\n",
    "    We should infer the periods per year\n",
    "    but that is currently left as an exercise\n",
    "    to the reader :-)\n",
    "    \"\"\"\n",
    "    return r.std()*(periods_per_year**0.5)\n",
    "\n",
    "def sharpe_ratio(r, riskfree_rate, periods_per_year):\n",
    "    \"\"\"\n",
    "    Computes the annualized sharpe ratio of a set of returns\n",
    "    \"\"\"\n",
    "    # convert the annual riskfree rate to per period\n",
    "    rf_per_period = (1+riskfree_rate)**(1/periods_per_year)-1\n",
    "    excess_ret = r - rf_per_period\n",
    "    ann_ex_ret = annualize_rets(excess_ret, periods_per_year)\n",
    "    ann_vol = annualize_vol(r, periods_per_year)\n",
    "    return ann_ex_ret/ann_vol\n",
    "\n",
    "def minimize_vol(target_return, er, cov):\n",
    "    \"\"\"\n",
    "    Returns the optimal weights that achieve the target return\n",
    "    given a set of expected returns and a covariance matrix\n",
    "    \"\"\"\n",
    "    n = er.shape[0]\n",
    "    init_guess = np.repeat(1/n, n)\n",
    "    bounds = ((0.0, 1.0),) * n # an N-tuple of 2-tuples!\n",
    "    # construct the constraints\n",
    "    weights_sum_to_1 = {'type': 'eq',\n",
    "                        'fun': lambda weights: np.sum(weights) - 1\n",
    "    }\n",
    "    return_is_target = {'type': 'eq',\n",
    "                        'args': (er,),\n",
    "                        'fun': lambda weights, er: target_return - portfolio_return(weights,er)\n",
    "    }\n",
    "    weights = scipy.optimize.minimize(portfolio_vol, init_guess,\n",
    "                       args=(cov,), method='SLSQP',\n",
    "                       options={'disp': False},\n",
    "                       constraints=(weights_sum_to_1,return_is_target),\n",
    "                       bounds=bounds)\n",
    "    return weights.x"
   ]
  },
  {
   "cell_type": "code",
   "execution_count": 159,
   "id": "a5541ea1",
   "metadata": {},
   "outputs": [
    {
     "data": {
      "text/plain": [
       "Telcm    0.045508\n",
       "GDLC     0.086774\n",
       "NoDur    0.107925\n",
       "Hlth     0.144737\n",
       "Money    0.265801\n",
       "Utils    0.278130\n",
       "Other    0.480799\n",
       "Durbl    0.481897\n",
       "BusEq    0.511505\n",
       "Manuf    0.561941\n",
       "Shops    0.573557\n",
       "Chems    0.580026\n",
       "Enrgy    0.735096\n",
       "dtype: float64"
      ]
     },
     "execution_count": 159,
     "metadata": {},
     "output_type": "execute_result"
    }
   ],
   "source": [
    "industry_SR = sharpe_ratio(ind, 0.03, 260).sort_values()\n",
    "industry_SR"
   ]
  },
  {
   "cell_type": "markdown",
   "id": "b4eac8c0",
   "metadata": {},
   "source": [
    "Expected returns, varcov matrix"
   ]
  },
  {
   "cell_type": "code",
   "execution_count": 160,
   "id": "66e23f61",
   "metadata": {},
   "outputs": [],
   "source": [
    "def optimal_weights(n_points, er, cov):\n",
    "    \"\"\"\n",
    "    \"\"\"\n",
    "    target_rs = np.linspace(er.min(), er.max(), n_points)\n",
    "    weights = [minimize_vol(target_return, er, cov) for target_return in target_rs]\n",
    "    return weights\n",
    "\n",
    "def plot_ef(n_points, er, cov):\n",
    "    \"\"\"\n",
    "    Plots the multi-asset efficient frontier\n",
    "    \"\"\"\n",
    "    weights = optimal_weights(n_points, er, cov) # not yet implemented!\n",
    "    rets = [portfolio_return(w, er) for w in weights]\n",
    "    vols = [portfolio_vol(w, cov) for w in weights]\n",
    "    ef = pd.DataFrame({\n",
    "        \"Returns\": rets, \n",
    "        \"Volatility\": vols\n",
    "    })\n",
    "    return ef.plot.line(x=\"Volatility\", y=\"Returns\", style='.-')\n",
    "\n",
    "def portfolio_vol(weights, covmat):\n",
    "    \"\"\"\n",
    "    Computes the vol of a portfolio from a covariance matrix and constituent weights\n",
    "    weights are a numpy array or N x 1 maxtrix and covmat is an N x N matrix\n",
    "    \"\"\"\n",
    "    return (weights.T @ covmat @ weights)**0.5\n",
    "\n",
    "def portfolio_return(weights, returns):\n",
    "    \"\"\"\n",
    "    Computes the return on a portfolio from constituent returns and weights\n",
    "    weights are a numpy array or Nx1 matrix and returns are a numpy array or Nx1 matrix\n",
    "    \"\"\"\n",
    "    return weights.T @ returns"
   ]
  },
  {
   "cell_type": "code",
   "execution_count": 179,
   "id": "6a4018b9",
   "metadata": {},
   "outputs": [
    {
     "data": {
      "text/plain": [
       "<AxesSubplot:xlabel='Volatility'>"
      ]
     },
     "execution_count": 179,
     "metadata": {},
     "output_type": "execute_result"
    },
    {
     "data": {
      "image/png": "[encoded data removed]",
      "text/plain": [
       "<Figure size 432x288 with 1 Axes>"
      ]
     },
     "metadata": {
      "needs_background": "light"
     },
     "output_type": "display_data"
    },
    {
     "data": {
      "image/png": "[encoded data removed]",
      "text/plain": [
       "<Figure size 432x288 with 1 Axes>"
      ]
     },
     "metadata": {
      "needs_background": "light"
     },
     "output_type": "display_data"
    }
   ],
   "source": [
    "er = annualize_rets(ind, 260)\n",
    "cov = ind.cov()\n",
    "industry = [\"NoDur\", \"Durbl\",\t\"Manuf\", \"Enrgy\", \"Chems\", \"BusEq\", \"Telcm\", \"Utils\", \"Shops\", \"Hlth\", \"Money\", \"Other\"]\n",
    "industry_and_crypto = [\"NoDur\", \"Durbl\",\t\"Manuf\", \"Enrgy\", \"Chems\", \"BusEq\", \"Telcm\", \"Utils\", \"Shops\", \"Hlth\", \"Money\", \"Other\", \"GDLC\"]\n",
    "plot_ef(100, er[industry], cov.loc[industry,industry])\n",
    "plot_ef(100, er[industry_and_crypto], cov.loc[industry_and_crypto,industry_and_crypto])"
   ]
  },
  {
   "cell_type": "code",
   "execution_count": 181,
   "id": "4485f677",
   "metadata": {},
   "outputs": [
    {
     "data": {
      "text/plain": [
       "<AxesSubplot:xlabel='Volatility'>"
      ]
     },
     "execution_count": 181,
     "metadata": {},
     "output_type": "execute_result"
    },
    {
     "data": {
      "image/png": "[encoded data removed]",
      "text/plain": [
       "<Figure size 432x288 with 1 Axes>"
      ]
     },
     "metadata": {
      "needs_background": "light"
     },
     "output_type": "display_data"
    },
    {
     "data": {
      "image/png": "[encoded data removed]",
      "text/plain": [
       "<Figure size 432x288 with 1 Axes>"
      ]
     },
     "metadata": {
      "needs_background": "light"
     },
     "output_type": "display_data"
    }
   ],
   "source": [
    "er = annualize_rets(ind, 260)\n",
    "cov = ind.cov()\n",
    "industry = [\"Hlth\", \"Money\", \"Other\"]\n",
    "industry_and_crypto = [\"Hlth\", \"Money\", \"Other\", \"GDLC\"]\n",
    "plot_ef(100, er[industry], cov.loc[industry,industry])\n",
    "plot_ef(100, er[industry_and_crypto], cov.loc[industry_and_crypto,industry_and_crypto])"
   ]
  },
  {
   "cell_type": "code",
   "execution_count": null,
   "id": "b5a61732",
   "metadata": {},
   "outputs": [],
   "source": []
  }
 ],
 "metadata": {
  "kernelspec": {
   "display_name": "Python 3",
   "language": "python",
   "name": "python3"
  },
  "language_info": {
   "codemirror_mode": {
    "name": "ipython",
    "version": 3
   },
   "file_extension": ".py",
   "mimetype": "text/x-python",
   "name": "python",
   "nbconvert_exporter": "python",
   "pygments_lexer": "ipython3",
   "version": "3.8.8"
  }
 },
 "nbformat": 4,
 "nbformat_minor": 5
}
